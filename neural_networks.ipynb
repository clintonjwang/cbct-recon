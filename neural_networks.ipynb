{
 "cells": [
  {
   "cell_type": "code",
   "execution_count": 1,
   "metadata": {
    "ExecuteTime": {
     "end_time": "2018-05-07T03:30:07.299320Z",
     "start_time": "2018-05-07T03:30:04.086982Z"
    }
   },
   "outputs": [
    {
     "name": "stderr",
     "output_type": "stream",
     "text": [
      "C:\\Users\\Clinton\\AppData\\Local\\conda\\conda\\envs\\old-keras\\lib\\site-packages\\h5py\\__init__.py:34: FutureWarning: Conversion of the second argument of issubdtype from `float` to `np.floating` is deprecated. In future, it will be treated as `np.float64 == np.dtype(float).type`.\n",
      "  from ._conv import register_converters as _register_converters\n",
      "Using TensorFlow backend.\n"
     ]
    }
   ],
   "source": [
    "import copy\n",
    "import dicom2nifti\n",
    "import dicom2nifti.compressed_dicom as compressed_dicom\n",
    "import importlib\n",
    "import niftiutils.helper_fxns as hf\n",
    "import niftiutils.transforms as tr\n",
    "import niftiutils.registration as regs\n",
    "import niftiutils.visualization as vis\n",
    "import keras\n",
    "import keras.layers as layers\n",
    "import numpy as np\n",
    "import os\n",
    "import pandas as pd\n",
    "import pylab\n",
    "import shutil\n",
    "import config\n",
    "import cnn_builder as cbuild\n",
    "from keras.models import Model\n",
    "import dcgan as dcg\n",
    "from keras.callbacks import EarlyStopping\n",
    "%matplotlib inline"
   ]
  },
  {
   "cell_type": "code",
   "execution_count": 13,
   "metadata": {
    "ExecuteTime": {
     "end_time": "2018-05-07T03:34:17.950646Z",
     "start_time": "2018-05-07T03:34:17.614490Z"
    },
    "scrolled": true
   },
   "outputs": [
    {
     "name": "stdout",
     "output_type": "stream",
     "text": [
      "_________________________________________________________________\n",
      "Layer (type)                 Output Shape              Param #   \n",
      "=================================================================\n",
      "input_3 (InputLayer)         (None, 64, 64, 32)        0         \n",
      "_________________________________________________________________\n",
      "reshape_7 (Reshape)          (None, 64, 2048)          0         \n",
      "_________________________________________________________________\n",
      "dense_5 (Dense)              (None, 64, 1024)          2097152   \n",
      "_________________________________________________________________\n",
      "reshape_8 (Reshape)          (None, 64, 32, 32, 1)     0         \n",
      "_________________________________________________________________\n",
      "conv3d_5 (Conv3D)            (None, 64, 32, 32, 64)    1792      \n",
      "_________________________________________________________________\n",
      "up_sampling3d_3 (UpSampling3 (None, 64, 64, 64, 64)    0         \n",
      "_________________________________________________________________\n",
      "conv3d_6 (Conv3D)            (None, 64, 64, 64, 64)    110592    \n",
      "_________________________________________________________________\n",
      "batch_normalization_6 (Batch (None, 64, 64, 64, 64)    256       \n",
      "_________________________________________________________________\n",
      "conv3d_transpose_3 (Conv3DTr (None, 64, 64, 64, 1)     1729      \n",
      "_________________________________________________________________\n",
      "reshape_9 (Reshape)          (None, 64, 64, 64)        0         \n",
      "=================================================================\n",
      "Total params: 2,211,521\n",
      "Trainable params: 2,211,393\n",
      "Non-trainable params: 128\n",
      "_________________________________________________________________\n"
     ]
    }
   ],
   "source": [
    "importlib.reload(config)\n",
    "importlib.reload(cbuild)\n",
    "C = config.Config()\n",
    "\n",
    "model = cbuild.build_cnn(lr=.01)\n",
    "model.summary()\n",
    "\n",
    "#early_stopping = EarlyStopping(monitor='loss', min_delta=0.001, patience=3)"
   ]
  },
  {
   "cell_type": "code",
   "execution_count": null,
   "metadata": {
    "ExecuteTime": {
     "start_time": "2018-05-07T03:34:17.802Z"
    },
    "scrolled": true
   },
   "outputs": [
    {
     "name": "stdout",
     "output_type": "stream",
     "text": [
      "Epoch 1/50\n",
      "10/10 [==============================] - 4s 384ms/step - loss: 329.0167\n",
      "Epoch 2/50\n",
      "10/10 [==============================] - 3s 319ms/step - loss: 211.2242\n",
      "Epoch 3/50\n",
      "10/10 [==============================] - 3s 319ms/step - loss: 162.1578\n",
      "Epoch 4/50\n",
      "10/10 [==============================] - 3s 335ms/step - loss: 131.5128\n",
      "Epoch 5/50\n",
      "10/10 [==============================] - 3s 330ms/step - loss: 109.7527\n",
      "Epoch 6/50\n",
      "10/10 [==============================] - 3s 333ms/step - loss: 93.2498\n",
      "Epoch 7/50\n",
      "10/10 [==============================] - 3s 327ms/step - loss: 80.2297\n",
      "Epoch 8/50\n",
      "10/10 [==============================] - 3s 332ms/step - loss: 69.6571\n",
      "Epoch 9/50\n",
      "10/10 [==============================] - 3s 330ms/step - loss: 60.8958\n",
      "Epoch 10/50\n",
      "10/10 [==============================] - 3s 332ms/step - loss: 53.5146\n",
      "Epoch 11/50\n",
      "10/10 [==============================] - 3s 333ms/step - loss: 47.2270\n",
      "Epoch 12/50\n",
      "10/10 [==============================] - 3s 335ms/step - loss: 41.8073\n",
      "Epoch 13/50\n",
      "10/10 [==============================] - 3s 334ms/step - loss: 37.1056\n",
      "Epoch 14/50\n",
      "10/10 [==============================] - 3s 336ms/step - loss: 32.9897\n",
      "Epoch 15/50\n",
      "10/10 [==============================] - 3s 333ms/step - loss: 29.3717\n",
      "Epoch 16/50\n",
      "10/10 [==============================] - 3s 334ms/step - loss: 26.1738\n",
      "Epoch 17/50\n",
      "10/10 [==============================] - 3s 337ms/step - loss: 23.3374\n",
      "Epoch 18/50\n",
      "10/10 [==============================] - 3s 335ms/step - loss: 20.8019\n",
      "Epoch 19/50\n",
      "10/10 [==============================] - 3s 343ms/step - loss: 18.5412\n",
      "Epoch 20/50\n",
      "10/10 [==============================] - 3s 335ms/step - loss: 16.5148\n",
      "Epoch 21/50\n",
      " 5/10 [==============>...............] - ETA: 1s - loss: 15.1195"
     ]
    }
   ],
   "source": [
    "hist = model.fit_generator(cbuild.train_generator(), steps_per_epoch=10, epochs=50)#, callbacks=[early_stopping])"
   ]
  },
  {
   "cell_type": "code",
   "execution_count": null,
   "metadata": {
    "ExecuteTime": {
     "end_time": "2018-05-07T03:33:03.897443Z",
     "start_time": "2018-05-07T03:32:59.756Z"
    },
    "collapsed": true
   },
   "outputs": [],
   "source": [
    "X,Y=next(cbuild.train_generator())"
   ]
  },
  {
   "cell_type": "code",
   "execution_count": 6,
   "metadata": {
    "ExecuteTime": {
     "end_time": "2018-05-07T03:32:40.852583Z",
     "start_time": "2018-05-07T03:32:40.704163Z"
    },
    "scrolled": true
   },
   "outputs": [
    {
     "data": {
      "image/png": "[encoded data removed]",
      "text/plain": [
       "<matplotlib.figure.Figure at 0x23d88f1f978>"
      ]
     },
     "metadata": {},
     "output_type": "display_data"
    }
   ],
   "source": [
    "vis.draw_slices(X[0], normalize=[0,1])"
   ]
  },
  {
   "cell_type": "code",
   "execution_count": 7,
   "metadata": {
    "ExecuteTime": {
     "end_time": "2018-05-07T03:32:41.043065Z",
     "start_time": "2018-05-07T03:32:40.904711Z"
    }
   },
   "outputs": [
    {
     "data": {
      "image/png": "[encoded data removed]",
      "text/plain": [
       "<matplotlib.figure.Figure at 0x23d88ebc128>"
      ]
     },
     "metadata": {},
     "output_type": "display_data"
    }
   ],
   "source": [
    "vis.draw_slices(Y[0], normalize=[0,1])"
   ]
  },
  {
   "cell_type": "code",
   "execution_count": 12,
   "metadata": {
    "ExecuteTime": {
     "end_time": "2018-05-07T03:34:13.599648Z",
     "start_time": "2018-05-07T03:34:13.345314Z"
    },
    "scrolled": false
   },
   "outputs": [
    {
     "data": {
      "image/png": "[encoded data removed]",
      "text/plain": [
       "<matplotlib.figure.Figure at 0x23dcc30e160>"
      ]
     },
     "metadata": {},
     "output_type": "display_data"
    }
   ],
   "source": [
    "y_pred = model.predict(X[:1])[0]\n",
    "#y_pred = dcgan.generator.predict(X[:1])[0]\n",
    "vis.draw_slices(y_pred, normalize=[0,1])"
   ]
  },
  {
   "cell_type": "code",
   "execution_count": null,
   "metadata": {
    "collapsed": true
   },
   "outputs": [],
   "source": [
    "layers.Dense()"
   ]
  },
  {
   "cell_type": "code",
   "execution_count": 477,
   "metadata": {
    "ExecuteTime": {
     "end_time": "2018-05-07T03:23:51.646753Z",
     "start_time": "2018-05-07T03:19:31.649009Z"
    },
    "scrolled": true
   },
   "outputs": [
    {
     "name": "stdout",
     "output_type": "stream",
     "text": [
      "_________________________________________________________________\n",
      "Layer (type)                 Output Shape              Param #   \n",
      "=================================================================\n",
      "input_133 (InputLayer)       (None, 64, 64, 64)        0         \n",
      "_________________________________________________________________\n",
      "reshape_189 (Reshape)        (None, 64, 64, 64, 1)     0         \n",
      "_________________________________________________________________\n",
      "conv3d_118 (Conv3D)          (None, 30, 30, 30, 64)    8064      \n",
      "_________________________________________________________________\n",
      "conv3d_119 (Conv3D)          (None, 15, 15, 15, 64)    512064    \n",
      "_________________________________________________________________\n",
      "batch_normalization_306 (Bat (None, 15, 15, 15, 64)    256       \n",
      "_________________________________________________________________\n",
      "conv3d_120 (Conv3D)          (None, 8, 8, 8, 64)       110656    \n",
      "_________________________________________________________________\n",
      "flatten_24 (Flatten)         (None, 32768)             0         \n",
      "_________________________________________________________________\n",
      "batch_normalization_307 (Bat (None, 32768)             131072    \n",
      "_________________________________________________________________\n",
      "dense_234 (Dense)            (None, 1)                 32769     \n",
      "=================================================================\n",
      "Total params: 794,881\n",
      "Trainable params: 729,217\n",
      "Non-trainable params: 65,664\n",
      "_________________________________________________________________\n",
      "_________________________________________________________________\n",
      "Layer (type)                 Output Shape              Param #   \n",
      "=================================================================\n",
      "input_134 (InputLayer)       (None, 64, 64, 32)        0         \n",
      "_________________________________________________________________\n",
      "reshape_190 (Reshape)        (None, 64, 2048)          0         \n",
      "_________________________________________________________________\n",
      "dense_235 (Dense)            (None, 64, 1024)          2098176   \n",
      "_________________________________________________________________\n",
      "batch_normalization_308 (Bat (None, 64, 1024)          4096      \n",
      "_________________________________________________________________\n",
      "dense_236 (Dense)            (None, 64, 1024)          1049600   \n",
      "_________________________________________________________________\n",
      "batch_normalization_309 (Bat (None, 64, 1024)          4096      \n",
      "_________________________________________________________________\n",
      "reshape_191 (Reshape)        (None, 64, 16, 16, 4)     0         \n",
      "_________________________________________________________________\n",
      "conv3d_121 (Conv3D)          (None, 64, 16, 16, 128)   13952     \n",
      "_________________________________________________________________\n",
      "up_sampling3d_41 (UpSampling (None, 64, 32, 32, 128)   0         \n",
      "_________________________________________________________________\n",
      "conv3d_122 (Conv3D)          (None, 64, 32, 32, 64)    221248    \n",
      "_________________________________________________________________\n",
      "batch_normalization_310 (Bat (None, 64, 32, 32, 64)    256       \n",
      "_________________________________________________________________\n",
      "conv3d_transpose_59 (Conv3DT (None, 64, 64, 64, 1)     8001      \n",
      "_________________________________________________________________\n",
      "reshape_192 (Reshape)        (None, 64, 64, 64)        0         \n",
      "=================================================================\n",
      "Total params: 3,399,425\n",
      "Trainable params: 3,395,201\n",
      "Non-trainable params: 4,224\n",
      "_________________________________________________________________\n"
     ]
    },
    {
     "name": "stderr",
     "output_type": "stream",
     "text": [
      "C:\\Users\\Clinton\\AppData\\Local\\conda\\conda\\envs\\old-keras\\lib\\site-packages\\keras-2.1.2-py3.5.egg\\keras\\engine\\training.py:945: UserWarning: Discrepancy between trainable weights and collected trainable weights, did you set `model.trainable` without calling `model.compile` after ?\n",
      "  'Discrepancy between trainable weights and collected trainable'\n"
     ]
    },
    {
     "name": "stdout",
     "output_type": "stream",
     "text": [
      "0 [D loss: 0.869358, acc.: 25.00%] [G loss: 0.091760] [C loss: 0.759130]\n",
      "1 [D loss: 0.000000, acc.: 0.00%] [G loss: 0.000000] [C loss: 1.403146]\n",
      "2 [D loss: 0.000000, acc.: 0.00%] [G loss: 0.000000] [C loss: 0.702126]\n",
      "3 [D loss: 0.000000, acc.: 0.00%] [G loss: 0.000000] [C loss: 0.997310]\n",
      "4 [D loss: 0.000000, acc.: 0.00%] [G loss: 0.000000] [C loss: 1.272192]\n",
      "5 [D loss: 1.044851, acc.: 50.00%] [G loss: 0.000000] [C loss: 1.333566]\n",
      "6 [D loss: 0.000000, acc.: 0.00%] [G loss: 0.000000] [C loss: 0.695205]\n",
      "7 [D loss: 0.000000, acc.: 0.00%] [G loss: 0.000000] [C loss: 0.801366]\n",
      "8 [D loss: 0.000000, acc.: 0.00%] [G loss: 0.000000] [C loss: 0.763147]\n",
      "9 [D loss: 0.000000, acc.: 0.00%] [G loss: 0.000000] [C loss: 0.873850]\n",
      "10 [D loss: 1.688904, acc.: 37.50%] [G loss: 0.139875] [C loss: 0.884974]\n",
      "11 [D loss: 0.000000, acc.: 0.00%] [G loss: 0.000000] [C loss: 0.842039]\n",
      "12 [D loss: 0.000000, acc.: 0.00%] [G loss: 0.000000] [C loss: 0.995156]\n",
      "13 [D loss: 0.000000, acc.: 0.00%] [G loss: 0.000000] [C loss: 1.047654]\n",
      "14 [D loss: 0.000000, acc.: 0.00%] [G loss: 0.000000] [C loss: 1.116487]\n",
      "15 [D loss: 1.831970, acc.: 50.00%] [G loss: 0.000000] [C loss: 1.413244]\n",
      "16 [D loss: 0.000000, acc.: 0.00%] [G loss: 0.000000] [C loss: 0.860226]\n",
      "17 [D loss: 0.000000, acc.: 0.00%] [G loss: 0.000000] [C loss: 0.678933]\n",
      "18 [D loss: 0.000000, acc.: 0.00%] [G loss: 0.000000] [C loss: 0.677431]\n",
      "19 [D loss: 0.000000, acc.: 0.00%] [G loss: 0.000000] [C loss: 0.747725]\n",
      "20 [D loss: 1.359263, acc.: 37.50%] [G loss: 0.139413] [C loss: 0.666148]\n",
      "21 [D loss: 0.000000, acc.: 0.00%] [G loss: 0.000000] [C loss: 0.902277]\n",
      "22 [D loss: 0.000000, acc.: 0.00%] [G loss: 0.000000] [C loss: 1.351832]\n",
      "23 [D loss: 0.000000, acc.: 0.00%] [G loss: 0.000000] [C loss: 1.599648]\n",
      "24 [D loss: 0.000000, acc.: 0.00%] [G loss: 0.000000] [C loss: 1.163347]\n",
      "25 [D loss: 1.152322, acc.: 62.50%] [G loss: 0.000000] [C loss: 1.174891]\n",
      "26 [D loss: 0.000000, acc.: 0.00%] [G loss: 0.000000] [C loss: 0.784601]\n",
      "27 [D loss: 0.000000, acc.: 0.00%] [G loss: 0.000000] [C loss: 0.687321]\n",
      "28 [D loss: 0.000000, acc.: 0.00%] [G loss: 0.000000] [C loss: 0.958331]\n",
      "29 [D loss: 0.000000, acc.: 0.00%] [G loss: 0.000000] [C loss: 1.100683]\n",
      "30 [D loss: 1.007570, acc.: 50.00%] [G loss: 0.115415] [C loss: 1.227264]\n",
      "31 [D loss: 0.000000, acc.: 0.00%] [G loss: 0.000000] [C loss: 1.962248]\n",
      "32 [D loss: 0.000000, acc.: 0.00%] [G loss: 0.000000] [C loss: 2.064364]\n",
      "33 [D loss: 0.000000, acc.: 0.00%] [G loss: 0.000000] [C loss: 2.259905]\n",
      "34 [D loss: 0.000000, acc.: 0.00%] [G loss: 0.000000] [C loss: 2.833367]\n",
      "35 [D loss: 2.166852, acc.: 62.50%] [G loss: 0.000000] [C loss: 2.093171]\n",
      "36 [D loss: 0.000000, acc.: 0.00%] [G loss: 0.000000] [C loss: 2.470603]\n",
      "37 [D loss: 0.000000, acc.: 0.00%] [G loss: 0.000000] [C loss: 3.598284]\n",
      "38 [D loss: 0.000000, acc.: 0.00%] [G loss: 0.000000] [C loss: 1.830794]\n",
      "39 [D loss: 0.000000, acc.: 0.00%] [G loss: 0.000000] [C loss: 2.275432]\n",
      "40 [D loss: 2.316911, acc.: 62.50%] [G loss: 0.127700] [C loss: 2.318175]\n",
      "41 [D loss: 0.000000, acc.: 0.00%] [G loss: 0.000000] [C loss: 1.827501]\n",
      "42 [D loss: 0.000000, acc.: 0.00%] [G loss: 0.000000] [C loss: 0.742796]\n",
      "43 [D loss: 0.000000, acc.: 0.00%] [G loss: 0.000000] [C loss: 1.433270]\n",
      "44 [D loss: 0.000000, acc.: 0.00%] [G loss: 0.000000] [C loss: 1.261788]\n",
      "45 [D loss: 1.124022, acc.: 37.50%] [G loss: 0.000000] [C loss: 1.126661]\n",
      "46 [D loss: 0.000000, acc.: 0.00%] [G loss: 0.000000] [C loss: 1.449938]\n",
      "47 [D loss: 0.000000, acc.: 0.00%] [G loss: 0.000000] [C loss: 2.407480]\n",
      "48 [D loss: 0.000000, acc.: 0.00%] [G loss: 0.000000] [C loss: 2.374985]\n",
      "49 [D loss: 0.000000, acc.: 0.00%] [G loss: 0.000000] [C loss: 1.503680]\n",
      "50 [D loss: 1.773098, acc.: 50.00%] [G loss: 0.143976] [C loss: 2.110292]\n",
      "51 [D loss: 0.000000, acc.: 0.00%] [G loss: 0.000000] [C loss: 3.471691]\n",
      "52 [D loss: 0.000000, acc.: 0.00%] [G loss: 0.000000] [C loss: 2.284444]\n",
      "53 [D loss: 0.000000, acc.: 0.00%] [G loss: 0.000000] [C loss: 2.647768]\n",
      "54 [D loss: 0.000000, acc.: 0.00%] [G loss: 0.000000] [C loss: 1.106239]\n",
      "55 [D loss: 2.859479, acc.: 25.00%] [G loss: 0.000000] [C loss: 1.433665]\n",
      "56 [D loss: 0.000000, acc.: 0.00%] [G loss: 0.000000] [C loss: 1.430681]\n",
      "57 [D loss: 0.000000, acc.: 0.00%] [G loss: 0.000000] [C loss: 1.104647]\n",
      "58 [D loss: 0.000000, acc.: 0.00%] [G loss: 0.000000] [C loss: 1.813740]\n",
      "59 [D loss: 0.000000, acc.: 0.00%] [G loss: 0.000000] [C loss: 1.041302]\n",
      "60 [D loss: 2.781562, acc.: 37.50%] [G loss: 0.143877] [C loss: 1.454088]\n",
      "61 [D loss: 0.000000, acc.: 0.00%] [G loss: 0.000000] [C loss: 3.437006]\n",
      "62 [D loss: 0.000000, acc.: 0.00%] [G loss: 0.000000] [C loss: 2.279592]\n",
      "63 [D loss: 0.000000, acc.: 0.00%] [G loss: 0.000000] [C loss: 0.868413]\n",
      "64 [D loss: 0.000000, acc.: 0.00%] [G loss: 0.000000] [C loss: 1.947380]\n",
      "65 [D loss: 1.781593, acc.: 62.50%] [G loss: 0.000000] [C loss: 1.465641]\n",
      "66 [D loss: 0.000000, acc.: 0.00%] [G loss: 0.000000] [C loss: 1.353704]\n",
      "67 [D loss: 0.000000, acc.: 0.00%] [G loss: 0.000000] [C loss: 1.298508]\n",
      "68 [D loss: 0.000000, acc.: 0.00%] [G loss: 0.000000] [C loss: 1.718564]\n",
      "69 [D loss: 0.000000, acc.: 0.00%] [G loss: 0.000000] [C loss: 2.294764]\n",
      "70 [D loss: 1.367261, acc.: 50.00%] [G loss: 0.116110] [C loss: 1.129775]\n",
      "71 [D loss: 0.000000, acc.: 0.00%] [G loss: 0.000000] [C loss: 1.747506]\n",
      "72 [D loss: 0.000000, acc.: 0.00%] [G loss: 0.000000] [C loss: 1.902096]\n",
      "73 [D loss: 0.000000, acc.: 0.00%] [G loss: 0.000000] [C loss: 1.120137]\n",
      "74 [D loss: 0.000000, acc.: 0.00%] [G loss: 0.000000] [C loss: 2.134851]\n",
      "75 [D loss: 3.117441, acc.: 37.50%] [G loss: 0.000000] [C loss: 1.178234]\n",
      "76 [D loss: 0.000000, acc.: 0.00%] [G loss: 0.000000] [C loss: 2.092178]\n",
      "77 [D loss: 0.000000, acc.: 0.00%] [G loss: 0.000000] [C loss: 0.820485]\n",
      "78 [D loss: 0.000000, acc.: 0.00%] [G loss: 0.000000] [C loss: 1.533244]\n",
      "79 [D loss: 0.000000, acc.: 0.00%] [G loss: 0.000000] [C loss: 1.435622]\n",
      "80 [D loss: 2.226907, acc.: 62.50%] [G loss: 0.147349] [C loss: 0.897519]\n",
      "81 [D loss: 0.000000, acc.: 0.00%] [G loss: 0.000000] [C loss: 1.764874]\n",
      "82 [D loss: 0.000000, acc.: 0.00%] [G loss: 0.000000] [C loss: 1.169169]\n",
      "83 [D loss: 0.000000, acc.: 0.00%] [G loss: 0.000000] [C loss: 1.618575]\n",
      "84 [D loss: 0.000000, acc.: 0.00%] [G loss: 0.000000] [C loss: 1.538934]\n",
      "85 [D loss: 2.226350, acc.: 50.00%] [G loss: 0.000000] [C loss: 1.463753]\n",
      "86 [D loss: 0.000000, acc.: 0.00%] [G loss: 0.000000] [C loss: 1.062746]\n",
      "87 [D loss: 0.000000, acc.: 0.00%] [G loss: 0.000000] [C loss: 2.525283]\n",
      "88 [D loss: 0.000000, acc.: 0.00%] [G loss: 0.000000] [C loss: 1.504328]\n",
      "89 [D loss: 0.000000, acc.: 0.00%] [G loss: 0.000000] [C loss: 1.233781]\n",
      "90 [D loss: 3.120070, acc.: 25.00%] [G loss: 0.153269] [C loss: 0.923810]\n",
      "91 [D loss: 0.000000, acc.: 0.00%] [G loss: 0.000000] [C loss: 2.521046]\n",
      "92 [D loss: 0.000000, acc.: 0.00%] [G loss: 0.000000] [C loss: 2.248721]\n",
      "93 [D loss: 0.000000, acc.: 0.00%] [G loss: 0.000000] [C loss: 1.698591]\n",
      "94 [D loss: 0.000000, acc.: 0.00%] [G loss: 0.000000] [C loss: 1.994057]\n",
      "95 [D loss: 1.322154, acc.: 37.50%] [G loss: 0.000000] [C loss: 1.681047]\n",
      "96 [D loss: 0.000000, acc.: 0.00%] [G loss: 0.000000] [C loss: 0.822795]\n",
      "97 [D loss: 0.000000, acc.: 0.00%] [G loss: 0.000000] [C loss: 2.069287]\n",
      "98 [D loss: 0.000000, acc.: 0.00%] [G loss: 0.000000] [C loss: 1.505142]\n",
      "99 [D loss: 0.000000, acc.: 0.00%] [G loss: 0.000000] [C loss: 1.673982]\n",
      "100 [D loss: 2.348205, acc.: 50.00%] [G loss: 0.116580] [C loss: 1.051153]\n",
      "101 [D loss: 0.000000, acc.: 0.00%] [G loss: 0.000000] [C loss: 1.519922]\n",
      "102 [D loss: 0.000000, acc.: 0.00%] [G loss: 0.000000] [C loss: 1.174337]\n",
      "103 [D loss: 0.000000, acc.: 0.00%] [G loss: 0.000000] [C loss: 1.270015]\n",
      "104 [D loss: 0.000000, acc.: 0.00%] [G loss: 0.000000] [C loss: 1.853079]\n",
      "105 [D loss: 2.147177, acc.: 62.50%] [G loss: 0.000000] [C loss: 1.213141]\n",
      "106 [D loss: 0.000000, acc.: 0.00%] [G loss: 0.000000] [C loss: 1.905365]\n",
      "107 [D loss: 0.000000, acc.: 0.00%] [G loss: 0.000000] [C loss: 0.819845]\n",
      "108 [D loss: 0.000000, acc.: 0.00%] [G loss: 0.000000] [C loss: 2.107986]\n",
      "109 [D loss: 0.000000, acc.: 0.00%] [G loss: 0.000000] [C loss: 1.079583]\n",
      "110 [D loss: 2.464999, acc.: 75.00%] [G loss: 0.096327] [C loss: 1.286157]\n",
      "111 [D loss: 0.000000, acc.: 0.00%] [G loss: 0.000000] [C loss: 1.297577]\n"
     ]
    },
    {
     "name": "stdout",
     "output_type": "stream",
     "text": [
      "112 [D loss: 0.000000, acc.: 0.00%] [G loss: 0.000000] [C loss: 2.957321]\n",
      "113 [D loss: 0.000000, acc.: 0.00%] [G loss: 0.000000] [C loss: 2.852968]\n",
      "114 [D loss: 0.000000, acc.: 0.00%] [G loss: 0.000000] [C loss: 2.030822]\n",
      "115 [D loss: 3.316183, acc.: 62.50%] [G loss: 0.000000] [C loss: 1.640477]\n",
      "116 [D loss: 0.000000, acc.: 0.00%] [G loss: 0.000000] [C loss: 0.962391]\n",
      "117 [D loss: 0.000000, acc.: 0.00%] [G loss: 0.000000] [C loss: 2.376124]\n",
      "118 [D loss: 0.000000, acc.: 0.00%] [G loss: 0.000000] [C loss: 2.424235]\n",
      "119 [D loss: 0.000000, acc.: 0.00%] [G loss: 0.000000] [C loss: 1.012762]\n",
      "120 [D loss: 2.929842, acc.: 50.00%] [G loss: 0.103846] [C loss: 4.221187]\n",
      "121 [D loss: 0.000000, acc.: 0.00%] [G loss: 0.000000] [C loss: 1.815192]\n",
      "122 [D loss: 0.000000, acc.: 0.00%] [G loss: 0.000000] [C loss: 0.792801]\n",
      "123 [D loss: 0.000000, acc.: 0.00%] [G loss: 0.000000] [C loss: 1.796348]\n",
      "124 [D loss: 0.000000, acc.: 0.00%] [G loss: 0.000000] [C loss: 3.673222]\n",
      "125 [D loss: 4.853926, acc.: 62.50%] [G loss: 0.000000] [C loss: 2.950921]\n",
      "126 [D loss: 0.000000, acc.: 0.00%] [G loss: 0.000000] [C loss: 4.489381]\n",
      "127 [D loss: 0.000000, acc.: 0.00%] [G loss: 0.000000] [C loss: 2.353814]\n",
      "128 [D loss: 0.000000, acc.: 0.00%] [G loss: 0.000000] [C loss: 3.222110]\n",
      "129 [D loss: 0.000000, acc.: 0.00%] [G loss: 0.000000] [C loss: 1.187043]\n",
      "130 [D loss: 3.448041, acc.: 62.50%] [G loss: 0.094502] [C loss: 0.928828]\n",
      "131 [D loss: 0.000000, acc.: 0.00%] [G loss: 0.000000] [C loss: 1.167177]\n",
      "132 [D loss: 0.000000, acc.: 0.00%] [G loss: 0.000000] [C loss: 1.161038]\n",
      "133 [D loss: 0.000000, acc.: 0.00%] [G loss: 0.000000] [C loss: 1.600862]\n",
      "134 [D loss: 0.000000, acc.: 0.00%] [G loss: 0.000000] [C loss: 2.715233]\n",
      "135 [D loss: 1.444686, acc.: 25.00%] [G loss: 0.000000] [C loss: 4.135903]\n",
      "136 [D loss: 0.000000, acc.: 0.00%] [G loss: 0.000000] [C loss: 4.676524]\n",
      "137 [D loss: 0.000000, acc.: 0.00%] [G loss: 0.000000] [C loss: 3.012483]\n",
      "138 [D loss: 0.000000, acc.: 0.00%] [G loss: 0.000000] [C loss: 2.972028]\n",
      "139 [D loss: 0.000000, acc.: 0.00%] [G loss: 0.000000] [C loss: 5.067364]\n",
      "140 [D loss: 3.024075, acc.: 50.00%] [G loss: 0.117634] [C loss: 4.052843]\n",
      "141 [D loss: 0.000000, acc.: 0.00%] [G loss: 0.000000] [C loss: 4.154008]\n",
      "142 [D loss: 0.000000, acc.: 0.00%] [G loss: 0.000000] [C loss: 5.800022]\n",
      "143 [D loss: 0.000000, acc.: 0.00%] [G loss: 0.000000] [C loss: 0.978478]\n",
      "144 [D loss: 0.000000, acc.: 0.00%] [G loss: 0.000000] [C loss: 2.315135]\n",
      "145 [D loss: 3.789529, acc.: 50.00%] [G loss: 0.000000] [C loss: 3.149391]\n",
      "146 [D loss: 0.000000, acc.: 0.00%] [G loss: 0.000000] [C loss: 1.328702]\n",
      "147 [D loss: 0.000000, acc.: 0.00%] [G loss: 0.000000] [C loss: 2.793071]\n",
      "148 [D loss: 0.000000, acc.: 0.00%] [G loss: 0.000000] [C loss: 2.252841]\n",
      "149 [D loss: 0.000000, acc.: 0.00%] [G loss: 0.000000] [C loss: 3.928530]\n",
      "150 [D loss: 3.408052, acc.: 62.50%] [G loss: 0.095252] [C loss: 3.324951]\n",
      "151 [D loss: 0.000000, acc.: 0.00%] [G loss: 0.000000] [C loss: 5.178399]\n",
      "152 [D loss: 0.000000, acc.: 0.00%] [G loss: 0.000000] [C loss: 4.088307]\n",
      "153 [D loss: 0.000000, acc.: 0.00%] [G loss: 0.000000] [C loss: 2.684500]\n",
      "154 [D loss: 0.000000, acc.: 0.00%] [G loss: 0.000000] [C loss: 2.235451]\n",
      "155 [D loss: 3.660539, acc.: 62.50%] [G loss: 0.000000] [C loss: 3.826560]\n",
      "156 [D loss: 0.000000, acc.: 0.00%] [G loss: 0.000000] [C loss: 2.671415]\n",
      "157 [D loss: 0.000000, acc.: 0.00%] [G loss: 0.000000] [C loss: 2.080233]\n",
      "158 [D loss: 0.000000, acc.: 0.00%] [G loss: 0.000000] [C loss: 2.929293]\n",
      "159 [D loss: 0.000000, acc.: 0.00%] [G loss: 0.000000] [C loss: 2.359315]\n",
      "160 [D loss: 2.754302, acc.: 50.00%] [G loss: 0.100685] [C loss: 1.754672]\n",
      "161 [D loss: 0.000000, acc.: 0.00%] [G loss: 0.000000] [C loss: 2.561610]\n",
      "162 [D loss: 0.000000, acc.: 0.00%] [G loss: 0.000000] [C loss: 2.576414]\n",
      "163 [D loss: 0.000000, acc.: 0.00%] [G loss: 0.000000] [C loss: 2.538135]\n",
      "164 [D loss: 0.000000, acc.: 0.00%] [G loss: 0.000000] [C loss: 3.035837]\n",
      "165 [D loss: 5.380087, acc.: 62.50%] [G loss: 0.000000] [C loss: 3.339393]\n",
      "166 [D loss: 0.000000, acc.: 0.00%] [G loss: 0.000000] [C loss: 3.713770]\n",
      "167 [D loss: 0.000000, acc.: 0.00%] [G loss: 0.000000] [C loss: 4.641049]\n",
      "168 [D loss: 0.000000, acc.: 0.00%] [G loss: 0.000000] [C loss: 4.236534]\n",
      "169 [D loss: 0.000000, acc.: 0.00%] [G loss: 0.000000] [C loss: 3.009834]\n",
      "170 [D loss: 5.794304, acc.: 50.00%] [G loss: 0.109738] [C loss: 1.702698]\n",
      "171 [D loss: 0.000000, acc.: 0.00%] [G loss: 0.000000] [C loss: 4.362689]\n",
      "172 [D loss: 0.000000, acc.: 0.00%] [G loss: 0.000000] [C loss: 3.515858]\n",
      "173 [D loss: 0.000000, acc.: 0.00%] [G loss: 0.000000] [C loss: 3.189513]\n",
      "174 [D loss: 0.000000, acc.: 0.00%] [G loss: 0.000000] [C loss: 3.796889]\n",
      "175 [D loss: 3.006953, acc.: 50.00%] [G loss: 0.000000] [C loss: 3.021557]\n",
      "176 [D loss: 0.000000, acc.: 0.00%] [G loss: 0.000000] [C loss: 1.909484]\n",
      "177 [D loss: 0.000000, acc.: 0.00%] [G loss: 0.000000] [C loss: 3.299535]\n",
      "178 [D loss: 0.000000, acc.: 0.00%] [G loss: 0.000000] [C loss: 3.348213]\n",
      "179 [D loss: 0.000000, acc.: 0.00%] [G loss: 0.000000] [C loss: 4.375780]\n",
      "180 [D loss: 1.833055, acc.: 62.50%] [G loss: 0.083744] [C loss: 1.948582]\n",
      "181 [D loss: 0.000000, acc.: 0.00%] [G loss: 0.000000] [C loss: 3.120770]\n",
      "182 [D loss: 0.000000, acc.: 0.00%] [G loss: 0.000000] [C loss: 3.696833]\n",
      "183 [D loss: 0.000000, acc.: 0.00%] [G loss: 0.000000] [C loss: 1.906213]\n",
      "184 [D loss: 0.000000, acc.: 0.00%] [G loss: 0.000000] [C loss: 2.125010]\n",
      "185 [D loss: 2.389297, acc.: 62.50%] [G loss: 0.000000] [C loss: 2.207774]\n",
      "186 [D loss: 0.000000, acc.: 0.00%] [G loss: 0.000000] [C loss: 3.712841]\n",
      "187 [D loss: 0.000000, acc.: 0.00%] [G loss: 0.000000] [C loss: 3.170505]\n",
      "188 [D loss: 0.000000, acc.: 0.00%] [G loss: 0.000000] [C loss: 2.959279]\n",
      "189 [D loss: 0.000000, acc.: 0.00%] [G loss: 0.000000] [C loss: 1.887074]\n",
      "190 [D loss: 2.613905, acc.: 50.00%] [G loss: 0.092888] [C loss: 2.650439]\n",
      "191 [D loss: 0.000000, acc.: 0.00%] [G loss: 0.000000] [C loss: 2.545954]\n",
      "192 [D loss: 0.000000, acc.: 0.00%] [G loss: 0.000000] [C loss: 3.609584]\n",
      "193 [D loss: 0.000000, acc.: 0.00%] [G loss: 0.000000] [C loss: 1.913325]\n",
      "194 [D loss: 0.000000, acc.: 0.00%] [G loss: 0.000000] [C loss: 2.214006]\n",
      "195 [D loss: 1.423147, acc.: 62.50%] [G loss: 0.000000] [C loss: 3.144137]\n",
      "196 [D loss: 0.000000, acc.: 0.00%] [G loss: 0.000000] [C loss: 2.628682]\n",
      "197 [D loss: 0.000000, acc.: 0.00%] [G loss: 0.000000] [C loss: 2.176625]\n",
      "198 [D loss: 0.000000, acc.: 0.00%] [G loss: 0.000000] [C loss: 2.191767]\n",
      "199 [D loss: 0.000000, acc.: 0.00%] [G loss: 0.000000] [C loss: 1.200073]\n",
      "200 [D loss: 2.500908, acc.: 50.00%] [G loss: 0.091678] [C loss: 1.560684]\n",
      "201 [D loss: 0.000000, acc.: 0.00%] [G loss: 0.000000] [C loss: 1.976065]\n",
      "202 [D loss: 0.000000, acc.: 0.00%] [G loss: 0.000000] [C loss: 4.602095]\n",
      "203 [D loss: 0.000000, acc.: 0.00%] [G loss: 0.000000] [C loss: 1.489545]\n",
      "204 [D loss: 0.000000, acc.: 0.00%] [G loss: 0.000000] [C loss: 2.515611]\n",
      "205 [D loss: 2.242525, acc.: 50.00%] [G loss: 0.000000] [C loss: 1.367788]\n",
      "206 [D loss: 0.000000, acc.: 0.00%] [G loss: 0.000000] [C loss: 3.367311]\n",
      "207 [D loss: 0.000000, acc.: 0.00%] [G loss: 0.000000] [C loss: 3.831411]\n",
      "208 [D loss: 0.000000, acc.: 0.00%] [G loss: 0.000000] [C loss: 2.752840]\n",
      "209 [D loss: 0.000000, acc.: 0.00%] [G loss: 0.000000] [C loss: 2.002760]\n",
      "210 [D loss: 2.138665, acc.: 62.50%] [G loss: 0.110879] [C loss: 1.852919]\n",
      "211 [D loss: 0.000000, acc.: 0.00%] [G loss: 0.000000] [C loss: 5.363825]\n",
      "212 [D loss: 0.000000, acc.: 0.00%] [G loss: 0.000000] [C loss: 4.705796]\n",
      "213 [D loss: 0.000000, acc.: 0.00%] [G loss: 0.000000] [C loss: 1.579415]\n",
      "214 [D loss: 0.000000, acc.: 0.00%] [G loss: 0.000000] [C loss: 2.350375]\n",
      "215 [D loss: 2.544274, acc.: 62.50%] [G loss: 0.000000] [C loss: 2.344856]\n",
      "216 [D loss: 0.000000, acc.: 0.00%] [G loss: 0.000000] [C loss: 2.214637]\n",
      "217 [D loss: 0.000000, acc.: 0.00%] [G loss: 0.000000] [C loss: 1.025249]\n",
      "218 [D loss: 0.000000, acc.: 0.00%] [G loss: 0.000000] [C loss: 2.666490]\n",
      "219 [D loss: 0.000000, acc.: 0.00%] [G loss: 0.000000] [C loss: 2.456901]\n",
      "220 [D loss: 1.853869, acc.: 62.50%] [G loss: 0.111315] [C loss: 1.507695]\n",
      "221 [D loss: 0.000000, acc.: 0.00%] [G loss: 0.000000] [C loss: 1.329622]\n",
      "222 [D loss: 0.000000, acc.: 0.00%] [G loss: 0.000000] [C loss: 0.851381]\n"
     ]
    },
    {
     "name": "stdout",
     "output_type": "stream",
     "text": [
      "223 [D loss: 0.000000, acc.: 0.00%] [G loss: 0.000000] [C loss: 1.997745]\n",
      "224 [D loss: 0.000000, acc.: 0.00%] [G loss: 0.000000] [C loss: 1.715639]\n",
      "225 [D loss: 2.191149, acc.: 50.00%] [G loss: 0.000000] [C loss: 2.226739]\n",
      "226 [D loss: 0.000000, acc.: 0.00%] [G loss: 0.000000] [C loss: 1.965204]\n",
      "227 [D loss: 0.000000, acc.: 0.00%] [G loss: 0.000000] [C loss: 2.436753]\n",
      "228 [D loss: 0.000000, acc.: 0.00%] [G loss: 0.000000] [C loss: 2.002462]\n",
      "229 [D loss: 0.000000, acc.: 0.00%] [G loss: 0.000000] [C loss: 1.117511]\n",
      "230 [D loss: 1.277242, acc.: 62.50%] [G loss: 0.114088] [C loss: 1.916351]\n",
      "231 [D loss: 0.000000, acc.: 0.00%] [G loss: 0.000000] [C loss: 1.332123]\n",
      "232 [D loss: 0.000000, acc.: 0.00%] [G loss: 0.000000] [C loss: 1.617348]\n",
      "233 [D loss: 0.000000, acc.: 0.00%] [G loss: 0.000000] [C loss: 1.431136]\n",
      "234 [D loss: 0.000000, acc.: 0.00%] [G loss: 0.000000] [C loss: 1.137460]\n",
      "235 [D loss: 0.880724, acc.: 50.00%] [G loss: 0.000000] [C loss: 2.151270]\n",
      "236 [D loss: 0.000000, acc.: 0.00%] [G loss: 0.000000] [C loss: 2.370315]\n",
      "237 [D loss: 0.000000, acc.: 0.00%] [G loss: 0.000000] [C loss: 1.512411]\n",
      "238 [D loss: 0.000000, acc.: 0.00%] [G loss: 0.000000] [C loss: 2.440122]\n",
      "239 [D loss: 0.000000, acc.: 0.00%] [G loss: 0.000000] [C loss: 2.632825]\n",
      "240 [D loss: 1.430298, acc.: 75.00%] [G loss: 0.107470] [C loss: 1.296936]\n",
      "241 [D loss: 0.000000, acc.: 0.00%] [G loss: 0.000000] [C loss: 2.414721]\n",
      "242 [D loss: 0.000000, acc.: 0.00%] [G loss: 0.000000] [C loss: 1.622409]\n",
      "243 [D loss: 0.000000, acc.: 0.00%] [G loss: 0.000000] [C loss: 2.757227]\n",
      "244 [D loss: 0.000000, acc.: 0.00%] [G loss: 0.000000] [C loss: 1.353136]\n",
      "245 [D loss: 1.083090, acc.: 62.50%] [G loss: 0.000000] [C loss: 3.051215]\n",
      "246 [D loss: 0.000000, acc.: 0.00%] [G loss: 0.000000] [C loss: 2.447858]\n",
      "247 [D loss: 0.000000, acc.: 0.00%] [G loss: 0.000000] [C loss: 1.077660]\n",
      "248 [D loss: 0.000000, acc.: 0.00%] [G loss: 0.000000] [C loss: 1.611971]\n",
      "249 [D loss: 0.000000, acc.: 0.00%] [G loss: 0.000000] [C loss: 1.607899]\n",
      "250 [D loss: 3.341760, acc.: 50.00%] [G loss: 0.109262] [C loss: 1.705101]\n",
      "251 [D loss: 0.000000, acc.: 0.00%] [G loss: 0.000000] [C loss: 0.917271]\n",
      "252 [D loss: 0.000000, acc.: 0.00%] [G loss: 0.000000] [C loss: 1.610811]\n",
      "253 [D loss: 0.000000, acc.: 0.00%] [G loss: 0.000000] [C loss: 1.091421]\n",
      "254 [D loss: 0.000000, acc.: 0.00%] [G loss: 0.000000] [C loss: 1.480051]\n",
      "255 [D loss: 1.624401, acc.: 37.50%] [G loss: 0.000000] [C loss: 2.763277]\n",
      "256 [D loss: 0.000000, acc.: 0.00%] [G loss: 0.000000] [C loss: 2.119806]\n",
      "257 [D loss: 0.000000, acc.: 0.00%] [G loss: 0.000000] [C loss: 1.858911]\n",
      "258 [D loss: 0.000000, acc.: 0.00%] [G loss: 0.000000] [C loss: 1.153830]\n",
      "259 [D loss: 0.000000, acc.: 0.00%] [G loss: 0.000000] [C loss: 2.169752]\n",
      "260 [D loss: 2.854881, acc.: 37.50%] [G loss: 0.093452] [C loss: 1.447398]\n",
      "261 [D loss: 0.000000, acc.: 0.00%] [G loss: 0.000000] [C loss: 1.706724]\n",
      "262 [D loss: 0.000000, acc.: 0.00%] [G loss: 0.000000] [C loss: 1.425731]\n",
      "263 [D loss: 0.000000, acc.: 0.00%] [G loss: 0.000000] [C loss: 1.901299]\n",
      "264 [D loss: 0.000000, acc.: 0.00%] [G loss: 0.000000] [C loss: 1.775923]\n",
      "265 [D loss: 2.041278, acc.: 37.50%] [G loss: 0.000000] [C loss: 1.458310]\n",
      "266 [D loss: 0.000000, acc.: 0.00%] [G loss: 0.000000] [C loss: 1.379377]\n",
      "267 [D loss: 0.000000, acc.: 0.00%] [G loss: 0.000000] [C loss: 0.698688]\n",
      "268 [D loss: 0.000000, acc.: 0.00%] [G loss: 0.000000] [C loss: 1.493074]\n",
      "269 [D loss: 0.000000, acc.: 0.00%] [G loss: 0.000000] [C loss: 2.017126]\n",
      "270 [D loss: 1.572785, acc.: 50.00%] [G loss: 0.065311] [C loss: 2.084819]\n",
      "271 [D loss: 0.000000, acc.: 0.00%] [G loss: 0.000000] [C loss: 1.746330]\n",
      "272 [D loss: 0.000000, acc.: 0.00%] [G loss: 0.000000] [C loss: 1.379290]\n",
      "273 [D loss: 0.000000, acc.: 0.00%] [G loss: 0.000000] [C loss: 1.002603]\n",
      "274 [D loss: 0.000000, acc.: 0.00%] [G loss: 0.000000] [C loss: 2.064879]\n",
      "275 [D loss: 1.302566, acc.: 50.00%] [G loss: 0.000000] [C loss: 2.808732]\n",
      "276 [D loss: 0.000000, acc.: 0.00%] [G loss: 0.000000] [C loss: 2.149282]\n",
      "277 [D loss: 0.000000, acc.: 0.00%] [G loss: 0.000000] [C loss: 2.522609]\n",
      "278 [D loss: 0.000000, acc.: 0.00%] [G loss: 0.000000] [C loss: 2.068377]\n",
      "279 [D loss: 0.000000, acc.: 0.00%] [G loss: 0.000000] [C loss: 1.064867]\n",
      "280 [D loss: 1.995399, acc.: 50.00%] [G loss: 0.052249] [C loss: 2.418577]\n",
      "281 [D loss: 0.000000, acc.: 0.00%] [G loss: 0.000000] [C loss: 1.616616]\n",
      "282 [D loss: 0.000000, acc.: 0.00%] [G loss: 0.000000] [C loss: 1.019941]\n",
      "283 [D loss: 0.000000, acc.: 0.00%] [G loss: 0.000000] [C loss: 2.097101]\n",
      "284 [D loss: 0.000000, acc.: 0.00%] [G loss: 0.000000] [C loss: 2.687215]\n",
      "285 [D loss: 2.057361, acc.: 37.50%] [G loss: 0.000000] [C loss: 1.159408]\n",
      "286 [D loss: 0.000000, acc.: 0.00%] [G loss: 0.000000] [C loss: 3.089165]\n",
      "287 [D loss: 0.000000, acc.: 0.00%] [G loss: 0.000000] [C loss: 3.655699]\n",
      "288 [D loss: 0.000000, acc.: 0.00%] [G loss: 0.000000] [C loss: 3.250337]\n",
      "289 [D loss: 0.000000, acc.: 0.00%] [G loss: 0.000000] [C loss: 1.875493]\n",
      "290 [D loss: 2.496565, acc.: 50.00%] [G loss: 0.038630] [C loss: 1.946859]\n",
      "291 [D loss: 0.000000, acc.: 0.00%] [G loss: 0.000000] [C loss: 2.903311]\n",
      "292 [D loss: 0.000000, acc.: 0.00%] [G loss: 0.000000] [C loss: 2.456832]\n",
      "293 [D loss: 0.000000, acc.: 0.00%] [G loss: 0.000000] [C loss: 0.906132]\n",
      "294 [D loss: 0.000000, acc.: 0.00%] [G loss: 0.000000] [C loss: 2.264956]\n",
      "295 [D loss: 2.703475, acc.: 37.50%] [G loss: 0.000000] [C loss: 2.055429]\n",
      "296 [D loss: 0.000000, acc.: 0.00%] [G loss: 0.000000] [C loss: 2.216744]\n",
      "297 [D loss: 0.000000, acc.: 0.00%] [G loss: 0.000000] [C loss: 0.912204]\n",
      "298 [D loss: 0.000000, acc.: 0.00%] [G loss: 0.000000] [C loss: 1.616681]\n",
      "299 [D loss: 0.000000, acc.: 0.00%] [G loss: 0.000000] [C loss: 1.107505]\n",
      "300 [D loss: 2.306837, acc.: 50.00%] [G loss: 0.053021] [C loss: 1.919133]\n",
      "301 [D loss: 0.000000, acc.: 0.00%] [G loss: 0.000000] [C loss: 1.204553]\n",
      "302 [D loss: 0.000000, acc.: 0.00%] [G loss: 0.000000] [C loss: 0.854975]\n",
      "303 [D loss: 0.000000, acc.: 0.00%] [G loss: 0.000000] [C loss: 1.262713]\n",
      "304 [D loss: 0.000000, acc.: 0.00%] [G loss: 0.000000] [C loss: 1.977754]\n",
      "305 [D loss: 1.906519, acc.: 50.00%] [G loss: 0.000000] [C loss: 2.038389]\n",
      "306 [D loss: 0.000000, acc.: 0.00%] [G loss: 0.000000] [C loss: 1.675959]\n",
      "307 [D loss: 0.000000, acc.: 0.00%] [G loss: 0.000000] [C loss: 1.936540]\n",
      "308 [D loss: 0.000000, acc.: 0.00%] [G loss: 0.000000] [C loss: 1.636788]\n",
      "309 [D loss: 0.000000, acc.: 0.00%] [G loss: 0.000000] [C loss: 1.201236]\n",
      "310 [D loss: 2.221448, acc.: 50.00%] [G loss: 0.049601] [C loss: 1.510179]\n",
      "311 [D loss: 0.000000, acc.: 0.00%] [G loss: 0.000000] [C loss: 0.872295]\n",
      "312 [D loss: 0.000000, acc.: 0.00%] [G loss: 0.000000] [C loss: 0.981277]\n",
      "313 [D loss: 0.000000, acc.: 0.00%] [G loss: 0.000000] [C loss: 1.012626]\n",
      "314 [D loss: 0.000000, acc.: 0.00%] [G loss: 0.000000] [C loss: 3.764763]\n",
      "315 [D loss: 2.492772, acc.: 50.00%] [G loss: 0.000000] [C loss: 0.805525]\n",
      "316 [D loss: 0.000000, acc.: 0.00%] [G loss: 0.000000] [C loss: 2.647379]\n",
      "317 [D loss: 0.000000, acc.: 0.00%] [G loss: 0.000000] [C loss: 1.719180]\n",
      "318 [D loss: 0.000000, acc.: 0.00%] [G loss: 0.000000] [C loss: 2.766467]\n",
      "319 [D loss: 0.000000, acc.: 0.00%] [G loss: 0.000000] [C loss: 0.829160]\n",
      "320 [D loss: 2.615753, acc.: 37.50%] [G loss: 0.064935] [C loss: 2.236212]\n",
      "321 [D loss: 0.000000, acc.: 0.00%] [G loss: 0.000000] [C loss: 1.596979]\n",
      "322 [D loss: 0.000000, acc.: 0.00%] [G loss: 0.000000] [C loss: 0.968353]\n",
      "323 [D loss: 0.000000, acc.: 0.00%] [G loss: 0.000000] [C loss: 1.385923]\n",
      "324 [D loss: 0.000000, acc.: 0.00%] [G loss: 0.000000] [C loss: 1.563656]\n",
      "325 [D loss: 2.089904, acc.: 62.50%] [G loss: 0.000000] [C loss: 0.718626]\n",
      "326 [D loss: 0.000000, acc.: 0.00%] [G loss: 0.000000] [C loss: 0.844008]\n",
      "327 [D loss: 0.000000, acc.: 0.00%] [G loss: 0.000000] [C loss: 0.686990]\n",
      "328 [D loss: 0.000000, acc.: 0.00%] [G loss: 0.000000] [C loss: 1.007541]\n",
      "329 [D loss: 0.000000, acc.: 0.00%] [G loss: 0.000000] [C loss: 1.386092]\n",
      "330 [D loss: 1.275255, acc.: 37.50%] [G loss: 0.049335] [C loss: 0.866819]\n",
      "331 [D loss: 0.000000, acc.: 0.00%] [G loss: 0.000000] [C loss: 1.808039]\n",
      "332 [D loss: 0.000000, acc.: 0.00%] [G loss: 0.000000] [C loss: 1.910400]\n",
      "333 [D loss: 0.000000, acc.: 0.00%] [G loss: 0.000000] [C loss: 1.339049]\n"
     ]
    },
    {
     "name": "stdout",
     "output_type": "stream",
     "text": [
      "334 [D loss: 0.000000, acc.: 0.00%] [G loss: 0.000000] [C loss: 1.988102]\n",
      "335 [D loss: 2.714291, acc.: 50.00%] [G loss: 0.000000] [C loss: 1.386317]\n",
      "336 [D loss: 0.000000, acc.: 0.00%] [G loss: 0.000000] [C loss: 1.831636]\n",
      "337 [D loss: 0.000000, acc.: 0.00%] [G loss: 0.000000] [C loss: 1.685584]\n",
      "338 [D loss: 0.000000, acc.: 0.00%] [G loss: 0.000000] [C loss: 1.357565]\n",
      "339 [D loss: 0.000000, acc.: 0.00%] [G loss: 0.000000] [C loss: 1.236555]\n",
      "340 [D loss: 2.443246, acc.: 62.50%] [G loss: 0.044795] [C loss: 0.951042]\n",
      "341 [D loss: 0.000000, acc.: 0.00%] [G loss: 0.000000] [C loss: 1.118200]\n",
      "342 [D loss: 0.000000, acc.: 0.00%] [G loss: 0.000000] [C loss: 0.613917]\n",
      "343 [D loss: 0.000000, acc.: 0.00%] [G loss: 0.000000] [C loss: 0.656281]\n",
      "344 [D loss: 0.000000, acc.: 0.00%] [G loss: 0.000000] [C loss: 0.648113]\n",
      "345 [D loss: 2.245312, acc.: 37.50%] [G loss: 0.000000] [C loss: 1.093167]\n",
      "346 [D loss: 0.000000, acc.: 0.00%] [G loss: 0.000000] [C loss: 1.557252]\n",
      "347 [D loss: 0.000000, acc.: 0.00%] [G loss: 0.000000] [C loss: 1.286458]\n",
      "348 [D loss: 0.000000, acc.: 0.00%] [G loss: 0.000000] [C loss: 0.621125]\n",
      "349 [D loss: 0.000000, acc.: 0.00%] [G loss: 0.000000] [C loss: 0.742619]\n",
      "350 [D loss: 0.883973, acc.: 75.00%] [G loss: 0.029374] [C loss: 0.761730]\n",
      "351 [D loss: 0.000000, acc.: 0.00%] [G loss: 0.000000] [C loss: 1.053462]\n",
      "352 [D loss: 0.000000, acc.: 0.00%] [G loss: 0.000000] [C loss: 0.645438]\n",
      "353 [D loss: 0.000000, acc.: 0.00%] [G loss: 0.000000] [C loss: 0.640584]\n",
      "354 [D loss: 0.000000, acc.: 0.00%] [G loss: 0.000000] [C loss: 0.741931]\n",
      "355 [D loss: 1.419184, acc.: 62.50%] [G loss: 0.000000] [C loss: 0.705328]\n",
      "356 [D loss: 0.000000, acc.: 0.00%] [G loss: 0.000000] [C loss: 1.003981]\n",
      "357 [D loss: 0.000000, acc.: 0.00%] [G loss: 0.000000] [C loss: 0.885192]\n",
      "358 [D loss: 0.000000, acc.: 0.00%] [G loss: 0.000000] [C loss: 0.794080]\n",
      "359 [D loss: 0.000000, acc.: 0.00%] [G loss: 0.000000] [C loss: 0.950072]\n",
      "360 [D loss: 1.437701, acc.: 37.50%] [G loss: 0.028279] [C loss: 0.837809]\n",
      "361 [D loss: 0.000000, acc.: 0.00%] [G loss: 0.000000] [C loss: 0.813031]\n",
      "362 [D loss: 0.000000, acc.: 0.00%] [G loss: 0.000000] [C loss: 0.742016]\n",
      "363 [D loss: 0.000000, acc.: 0.00%] [G loss: 0.000000] [C loss: 0.747029]\n",
      "364 [D loss: 0.000000, acc.: 0.00%] [G loss: 0.000000] [C loss: 0.925777]\n",
      "365 [D loss: 1.738783, acc.: 62.50%] [G loss: 0.000000] [C loss: 0.781184]\n",
      "366 [D loss: 0.000000, acc.: 0.00%] [G loss: 0.000000] [C loss: 0.794845]\n",
      "367 [D loss: 0.000000, acc.: 0.00%] [G loss: 0.000000] [C loss: 0.923072]\n",
      "368 [D loss: 0.000000, acc.: 0.00%] [G loss: 0.000000] [C loss: 0.834921]\n",
      "369 [D loss: 0.000000, acc.: 0.00%] [G loss: 0.000000] [C loss: 0.789205]\n",
      "370 [D loss: 1.257596, acc.: 50.00%] [G loss: 0.021503] [C loss: 0.806066]\n",
      "371 [D loss: 0.000000, acc.: 0.00%] [G loss: 0.000000] [C loss: 1.093732]\n",
      "372 [D loss: 0.000000, acc.: 0.00%] [G loss: 0.000000] [C loss: 0.922587]\n",
      "373 [D loss: 0.000000, acc.: 0.00%] [G loss: 0.000000] [C loss: 0.951461]\n",
      "374 [D loss: 0.000000, acc.: 0.00%] [G loss: 0.000000] [C loss: 0.808467]\n",
      "375 [D loss: 1.231401, acc.: 62.50%] [G loss: 0.000000] [C loss: 0.851035]\n",
      "376 [D loss: 0.000000, acc.: 0.00%] [G loss: 0.000000] [C loss: 0.843923]\n",
      "377 [D loss: 0.000000, acc.: 0.00%] [G loss: 0.000000] [C loss: 0.867143]\n",
      "378 [D loss: 0.000000, acc.: 0.00%] [G loss: 0.000000] [C loss: 0.864302]\n",
      "379 [D loss: 0.000000, acc.: 0.00%] [G loss: 0.000000] [C loss: 0.889695]\n",
      "380 [D loss: 2.325382, acc.: 62.50%] [G loss: 0.027399] [C loss: 0.902749]\n",
      "381 [D loss: 0.000000, acc.: 0.00%] [G loss: 0.000000] [C loss: 0.865134]\n",
      "382 [D loss: 0.000000, acc.: 0.00%] [G loss: 0.000000] [C loss: 0.878436]\n",
      "383 [D loss: 0.000000, acc.: 0.00%] [G loss: 0.000000] [C loss: 0.863683]\n",
      "384 [D loss: 0.000000, acc.: 0.00%] [G loss: 0.000000] [C loss: 0.882001]\n",
      "385 [D loss: 1.591401, acc.: 62.50%] [G loss: 0.000000] [C loss: 0.879138]\n",
      "386 [D loss: 0.000000, acc.: 0.00%] [G loss: 0.000000] [C loss: 0.873305]\n",
      "387 [D loss: 0.000000, acc.: 0.00%] [G loss: 0.000000] [C loss: 0.964219]\n",
      "388 [D loss: 0.000000, acc.: 0.00%] [G loss: 0.000000] [C loss: 0.893447]\n",
      "389 [D loss: 0.000000, acc.: 0.00%] [G loss: 0.000000] [C loss: 0.922595]\n",
      "390 [D loss: 3.300790, acc.: 50.00%] [G loss: 0.016416] [C loss: 0.948669]\n",
      "391 [D loss: 0.000000, acc.: 0.00%] [G loss: 0.000000] [C loss: 0.867667]\n",
      "392 [D loss: 0.000000, acc.: 0.00%] [G loss: 0.000000] [C loss: 0.867895]\n",
      "393 [D loss: 0.000000, acc.: 0.00%] [G loss: 0.000000] [C loss: 0.867620]\n",
      "394 [D loss: 0.000000, acc.: 0.00%] [G loss: 0.000000] [C loss: 0.888532]\n",
      "395 [D loss: 2.166298, acc.: 37.50%] [G loss: 0.000000] [C loss: 0.958305]\n",
      "396 [D loss: 0.000000, acc.: 0.00%] [G loss: 0.000000] [C loss: 0.852196]\n",
      "397 [D loss: 0.000000, acc.: 0.00%] [G loss: 0.000000] [C loss: 0.848081]\n",
      "398 [D loss: 0.000000, acc.: 0.00%] [G loss: 0.000000] [C loss: 0.829075]\n",
      "399 [D loss: 0.000000, acc.: 0.00%] [G loss: 0.000000] [C loss: 0.857104]\n",
      "400 [D loss: 1.843509, acc.: 50.00%] [G loss: 0.021735] [C loss: 0.777060]\n",
      "401 [D loss: 0.000000, acc.: 0.00%] [G loss: 0.000000] [C loss: 0.776753]\n",
      "402 [D loss: 0.000000, acc.: 0.00%] [G loss: 0.000000] [C loss: 0.777738]\n",
      "403 [D loss: 0.000000, acc.: 0.00%] [G loss: 0.000000] [C loss: 0.783638]\n",
      "404 [D loss: 0.000000, acc.: 0.00%] [G loss: 0.000000] [C loss: 0.778596]\n",
      "405 [D loss: 2.462080, acc.: 50.00%] [G loss: 0.000000] [C loss: 0.742507]\n",
      "406 [D loss: 0.000000, acc.: 0.00%] [G loss: 0.000000] [C loss: 0.738031]\n",
      "407 [D loss: 0.000000, acc.: 0.00%] [G loss: 0.000000] [C loss: 0.739756]\n",
      "408 [D loss: 0.000000, acc.: 0.00%] [G loss: 0.000000] [C loss: 0.750797]\n",
      "409 [D loss: 0.000000, acc.: 0.00%] [G loss: 0.000000] [C loss: 0.755540]\n",
      "410 [D loss: 1.230329, acc.: 62.50%] [G loss: 0.021726] [C loss: 0.727360]\n",
      "411 [D loss: 0.000000, acc.: 0.00%] [G loss: 0.000000] [C loss: 0.727054]\n",
      "412 [D loss: 0.000000, acc.: 0.00%] [G loss: 0.000000] [C loss: 0.737556]\n",
      "413 [D loss: 0.000000, acc.: 0.00%] [G loss: 0.000000] [C loss: 0.730634]\n",
      "414 [D loss: 0.000000, acc.: 0.00%] [G loss: 0.000000] [C loss: 0.731570]\n",
      "415 [D loss: 1.862036, acc.: 50.00%] [G loss: 0.000000] [C loss: 0.719462]\n",
      "416 [D loss: 0.000000, acc.: 0.00%] [G loss: 0.000000] [C loss: 0.719831]\n",
      "417 [D loss: 0.000000, acc.: 0.00%] [G loss: 0.000000] [C loss: 0.719344]\n",
      "418 [D loss: 0.000000, acc.: 0.00%] [G loss: 0.000000] [C loss: 0.718260]\n",
      "419 [D loss: 0.000000, acc.: 0.00%] [G loss: 0.000000] [C loss: 0.724166]\n",
      "420 [D loss: 1.753379, acc.: 62.50%] [G loss: 0.022679] [C loss: 0.729907]\n",
      "421 [D loss: 0.000000, acc.: 0.00%] [G loss: 0.000000] [C loss: 0.730535]\n",
      "422 [D loss: 0.000000, acc.: 0.00%] [G loss: 0.000000] [C loss: 0.756478]\n",
      "423 [D loss: 0.000000, acc.: 0.00%] [G loss: 0.000000] [C loss: 0.733747]\n",
      "424 [D loss: 0.000000, acc.: 0.00%] [G loss: 0.000000] [C loss: 0.730016]\n",
      "425 [D loss: 1.606776, acc.: 50.00%] [G loss: 0.000000] [C loss: 0.732901]\n",
      "426 [D loss: 0.000000, acc.: 0.00%] [G loss: 0.000000] [C loss: 0.766796]\n",
      "427 [D loss: 0.000000, acc.: 0.00%] [G loss: 0.000000] [C loss: 0.732871]\n",
      "428 [D loss: 0.000000, acc.: 0.00%] [G loss: 0.000000] [C loss: 0.742259]\n",
      "429 [D loss: 0.000000, acc.: 0.00%] [G loss: 0.000000] [C loss: 0.753682]\n",
      "430 [D loss: 1.088442, acc.: 25.00%] [G loss: 0.017081] [C loss: 0.718698]\n",
      "431 [D loss: 0.000000, acc.: 0.00%] [G loss: 0.000000] [C loss: 0.719322]\n",
      "432 [D loss: 0.000000, acc.: 0.00%] [G loss: 0.000000] [C loss: 0.732673]\n",
      "433 [D loss: 0.000000, acc.: 0.00%] [G loss: 0.000000] [C loss: 0.720668]\n",
      "434 [D loss: 0.000000, acc.: 0.00%] [G loss: 0.000000] [C loss: 0.720052]\n",
      "435 [D loss: 1.907587, acc.: 50.00%] [G loss: 0.000000] [C loss: 0.750160]\n",
      "436 [D loss: 0.000000, acc.: 0.00%] [G loss: 0.000000] [C loss: 0.697463]\n",
      "437 [D loss: 0.000000, acc.: 0.00%] [G loss: 0.000000] [C loss: 0.695296]\n",
      "438 [D loss: 0.000000, acc.: 0.00%] [G loss: 0.000000] [C loss: 0.702597]\n",
      "439 [D loss: 0.000000, acc.: 0.00%] [G loss: 0.000000] [C loss: 0.698312]\n",
      "440 [D loss: 1.695294, acc.: 62.50%] [G loss: 0.019520] [C loss: 0.699800]\n",
      "441 [D loss: 0.000000, acc.: 0.00%] [G loss: 0.000000] [C loss: 0.679878]\n",
      "442 [D loss: 0.000000, acc.: 0.00%] [G loss: 0.000000] [C loss: 0.685985]\n",
      "443 [D loss: 0.000000, acc.: 0.00%] [G loss: 0.000000] [C loss: 0.677625]\n",
      "444 [D loss: 0.000000, acc.: 0.00%] [G loss: 0.000000] [C loss: 0.676612]\n"
     ]
    },
    {
     "name": "stdout",
     "output_type": "stream",
     "text": [
      "445 [D loss: 1.529968, acc.: 37.50%] [G loss: 0.000000] [C loss: 0.647949]\n",
      "446 [D loss: 0.000000, acc.: 0.00%] [G loss: 0.000000] [C loss: 0.652776]\n",
      "447 [D loss: 0.000000, acc.: 0.00%] [G loss: 0.000000] [C loss: 0.646731]\n",
      "448 [D loss: 0.000000, acc.: 0.00%] [G loss: 0.000000] [C loss: 0.647050]\n",
      "449 [D loss: 0.000000, acc.: 0.00%] [G loss: 0.000000] [C loss: 0.647337]\n",
      "450 [D loss: 0.940492, acc.: 25.00%] [G loss: 0.027989] [C loss: 0.627718]\n",
      "451 [D loss: 0.000000, acc.: 0.00%] [G loss: 0.000000] [C loss: 0.625696]\n",
      "452 [D loss: 0.000000, acc.: 0.00%] [G loss: 0.000000] [C loss: 0.624532]\n",
      "453 [D loss: 0.000000, acc.: 0.00%] [G loss: 0.000000] [C loss: 0.655004]\n",
      "454 [D loss: 0.000000, acc.: 0.00%] [G loss: 0.000000] [C loss: 0.624120]\n",
      "455 [D loss: 1.702496, acc.: 37.50%] [G loss: 0.000000] [C loss: 0.628460]\n",
      "456 [D loss: 0.000000, acc.: 0.00%] [G loss: 0.000000] [C loss: 0.627344]\n",
      "457 [D loss: 0.000000, acc.: 0.00%] [G loss: 0.000000] [C loss: 0.627759]\n",
      "458 [D loss: 0.000000, acc.: 0.00%] [G loss: 0.000000] [C loss: 0.631531]\n",
      "459 [D loss: 0.000000, acc.: 0.00%] [G loss: 0.000000] [C loss: 0.627892]\n",
      "460 [D loss: 2.815953, acc.: 25.00%] [G loss: 0.025647] [C loss: 0.601395]\n",
      "461 [D loss: 0.000000, acc.: 0.00%] [G loss: 0.000000] [C loss: 0.601481]\n",
      "462 [D loss: 0.000000, acc.: 0.00%] [G loss: 0.000000] [C loss: 0.601401]\n",
      "463 [D loss: 0.000000, acc.: 0.00%] [G loss: 0.000000] [C loss: 0.601521]\n",
      "464 [D loss: 0.000000, acc.: 0.00%] [G loss: 0.000000] [C loss: 0.601466]\n",
      "465 [D loss: 2.176967, acc.: 37.50%] [G loss: 0.000000] [C loss: 0.620456]\n",
      "466 [D loss: 0.000000, acc.: 0.00%] [G loss: 0.000000] [C loss: 0.620484]\n",
      "467 [D loss: 0.000000, acc.: 0.00%] [G loss: 0.000000] [C loss: 0.620992]\n",
      "468 [D loss: 0.000000, acc.: 0.00%] [G loss: 0.000000] [C loss: 0.620490]\n",
      "469 [D loss: 0.000000, acc.: 0.00%] [G loss: 0.000000] [C loss: 0.620484]\n",
      "470 [D loss: 1.573870, acc.: 12.50%] [G loss: 0.031965] [C loss: 0.626067]\n",
      "471 [D loss: 0.000000, acc.: 0.00%] [G loss: 0.000000] [C loss: 0.626153]\n",
      "472 [D loss: 0.000000, acc.: 0.00%] [G loss: 0.000000] [C loss: 0.626067]\n",
      "473 [D loss: 0.000000, acc.: 0.00%] [G loss: 0.000000] [C loss: 0.626060]\n",
      "474 [D loss: 0.000000, acc.: 0.00%] [G loss: 0.000000] [C loss: 0.633286]\n",
      "475 [D loss: 2.160118, acc.: 37.50%] [G loss: 0.000000] [C loss: 0.637059]\n",
      "476 [D loss: 0.000000, acc.: 0.00%] [G loss: 0.000000] [C loss: 0.637022]\n",
      "477 [D loss: 0.000000, acc.: 0.00%] [G loss: 0.000000] [C loss: 0.637023]\n",
      "478 [D loss: 0.000000, acc.: 0.00%] [G loss: 0.000000] [C loss: 0.637027]\n",
      "479 [D loss: 0.000000, acc.: 0.00%] [G loss: 0.000000] [C loss: 0.638859]\n",
      "480 [D loss: 1.397614, acc.: 50.00%] [G loss: 0.019685] [C loss: 0.667716]\n",
      "481 [D loss: 0.000000, acc.: 0.00%] [G loss: 0.000000] [C loss: 0.659241]\n",
      "482 [D loss: 0.000000, acc.: 0.00%] [G loss: 0.000000] [C loss: 0.659243]\n",
      "483 [D loss: 0.000000, acc.: 0.00%] [G loss: 0.000000] [C loss: 0.662437]\n",
      "484 [D loss: 0.000000, acc.: 0.00%] [G loss: 0.000000] [C loss: 0.659246]\n",
      "485 [D loss: 2.542631, acc.: 37.50%] [G loss: 0.000000] [C loss: 0.683602]\n",
      "486 [D loss: 0.000000, acc.: 0.00%] [G loss: 0.000000] [C loss: 0.683586]\n",
      "487 [D loss: 0.000000, acc.: 0.00%] [G loss: 0.000000] [C loss: 0.683353]\n",
      "488 [D loss: 0.000000, acc.: 0.00%] [G loss: 0.000000] [C loss: 0.683552]\n",
      "489 [D loss: 0.000000, acc.: 0.00%] [G loss: 0.000000] [C loss: 0.683541]\n",
      "490 [D loss: 2.538086, acc.: 37.50%] [G loss: 0.024386] [C loss: 0.706825]\n",
      "491 [D loss: 0.000000, acc.: 0.00%] [G loss: 0.000000] [C loss: 0.705201]\n",
      "492 [D loss: 0.000000, acc.: 0.00%] [G loss: 0.000000] [C loss: 0.706528]\n",
      "493 [D loss: 0.000000, acc.: 0.00%] [G loss: 0.000000] [C loss: 0.705211]\n",
      "494 [D loss: 0.000000, acc.: 0.00%] [G loss: 0.000000] [C loss: 0.707157]\n",
      "495 [D loss: 1.665805, acc.: 25.00%] [G loss: 0.000000] [C loss: 0.710803]\n",
      "496 [D loss: 0.000000, acc.: 0.00%] [G loss: 0.000000] [C loss: 0.710627]\n",
      "497 [D loss: 0.000000, acc.: 0.00%] [G loss: 0.000000] [C loss: 0.710627]\n",
      "498 [D loss: 0.000000, acc.: 0.00%] [G loss: 0.000000] [C loss: 0.710776]\n",
      "499 [D loss: 0.000000, acc.: 0.00%] [G loss: 0.000000] [C loss: 0.710625]\n",
      "500 [D loss: 1.555814, acc.: 75.00%] [G loss: 0.024037] [C loss: 0.749583]\n",
      "501 [D loss: 0.000000, acc.: 0.00%] [G loss: 0.000000] [C loss: 0.748973]\n",
      "502 [D loss: 0.000000, acc.: 0.00%] [G loss: 0.000000] [C loss: 0.749197]\n",
      "503 [D loss: 0.000000, acc.: 0.00%] [G loss: 0.000000] [C loss: 0.749381]\n",
      "504 [D loss: 0.000000, acc.: 0.00%] [G loss: 0.000000] [C loss: 0.749095]\n",
      "505 [D loss: 2.123826, acc.: 87.50%] [G loss: 0.000000] [C loss: 0.806674]\n",
      "506 [D loss: 0.000000, acc.: 0.00%] [G loss: 0.000000] [C loss: 0.806007]\n",
      "507 [D loss: 0.000000, acc.: 0.00%] [G loss: 0.000000] [C loss: 0.806012]\n",
      "508 [D loss: 0.000000, acc.: 0.00%] [G loss: 0.000000] [C loss: 0.806041]\n",
      "509 [D loss: 0.000000, acc.: 0.00%] [G loss: 0.000000] [C loss: 0.806434]\n",
      "510 [D loss: 1.952484, acc.: 75.00%] [G loss: 0.058889] [C loss: 0.849919]\n",
      "511 [D loss: 0.000000, acc.: 0.00%] [G loss: 0.000000] [C loss: 0.849924]\n",
      "512 [D loss: 0.000000, acc.: 0.00%] [G loss: 0.000000] [C loss: 0.850724]\n",
      "513 [D loss: 0.000000, acc.: 0.00%] [G loss: 0.000000] [C loss: 0.850567]\n",
      "514 [D loss: 0.000000, acc.: 0.00%] [G loss: 0.000000] [C loss: 0.850738]\n",
      "515 [D loss: 2.171783, acc.: 62.50%] [G loss: 0.000000] [C loss: 0.833777]\n",
      "516 [D loss: 0.000000, acc.: 0.00%] [G loss: 0.000000] [C loss: 0.833773]\n",
      "517 [D loss: 0.000000, acc.: 0.00%] [G loss: 0.000000] [C loss: 0.833776]\n",
      "518 [D loss: 0.000000, acc.: 0.00%] [G loss: 0.000000] [C loss: 0.833778]\n",
      "519 [D loss: 0.000000, acc.: 0.00%] [G loss: 0.000000] [C loss: 0.835155]\n",
      "520 [D loss: 1.446095, acc.: 75.00%] [G loss: 0.016159] [C loss: 0.818563]\n",
      "521 [D loss: 0.000000, acc.: 0.00%] [G loss: 0.000000] [C loss: 0.818561]\n",
      "522 [D loss: 0.000000, acc.: 0.00%] [G loss: 0.000000] [C loss: 0.818561]\n",
      "523 [D loss: 0.000000, acc.: 0.00%] [G loss: 0.000000] [C loss: 0.818554]\n",
      "524 [D loss: 0.000000, acc.: 0.00%] [G loss: 0.000000] [C loss: 0.818559]\n",
      "525 [D loss: 1.784135, acc.: 75.00%] [G loss: 0.000000] [C loss: 0.780018]\n",
      "526 [D loss: 0.000000, acc.: 0.00%] [G loss: 0.000000] [C loss: 0.780704]\n",
      "527 [D loss: 0.000000, acc.: 0.00%] [G loss: 0.000000] [C loss: 0.780019]\n",
      "528 [D loss: 0.000000, acc.: 0.00%] [G loss: 0.000000] [C loss: 0.780017]\n",
      "529 [D loss: 0.000000, acc.: 0.00%] [G loss: 0.000000] [C loss: 0.780014]\n",
      "530 [D loss: 2.325033, acc.: 87.50%] [G loss: 0.012675] [C loss: 0.829469]\n",
      "531 [D loss: 0.000000, acc.: 0.00%] [G loss: 0.000000] [C loss: 0.830218]\n",
      "532 [D loss: 0.000000, acc.: 0.00%] [G loss: 0.000000] [C loss: 0.829470]\n",
      "533 [D loss: 0.000000, acc.: 0.00%] [G loss: 0.000000] [C loss: 0.829472]\n",
      "534 [D loss: 0.000000, acc.: 0.00%] [G loss: 0.000000] [C loss: 0.829474]\n",
      "535 [D loss: 2.832362, acc.: 75.00%] [G loss: 0.000000] [C loss: 0.861272]\n",
      "536 [D loss: 0.000000, acc.: 0.00%] [G loss: 0.000000] [C loss: 0.860800]\n",
      "537 [D loss: 0.000000, acc.: 0.00%] [G loss: 0.000000] [C loss: 0.860799]\n",
      "538 [D loss: 0.000000, acc.: 0.00%] [G loss: 0.000000] [C loss: 0.860798]\n",
      "539 [D loss: 0.000000, acc.: 0.00%] [G loss: 0.000000] [C loss: 0.860796]\n",
      "540 [D loss: 1.494767, acc.: 75.00%] [G loss: 0.018177] [C loss: 0.871734]\n",
      "541 [D loss: 0.000000, acc.: 0.00%] [G loss: 0.000000] [C loss: 0.871735]\n",
      "542 [D loss: 0.000000, acc.: 0.00%] [G loss: 0.000000] [C loss: 0.871732]\n",
      "543 [D loss: 0.000000, acc.: 0.00%] [G loss: 0.000000] [C loss: 0.871731]\n",
      "544 [D loss: 0.000000, acc.: 0.00%] [G loss: 0.000000] [C loss: 0.871727]\n",
      "545 [D loss: 2.976154, acc.: 62.50%] [G loss: 0.000000] [C loss: 0.825411]\n",
      "546 [D loss: 0.000000, acc.: 0.00%] [G loss: 0.000000] [C loss: 0.825413]\n",
      "547 [D loss: 0.000000, acc.: 0.00%] [G loss: 0.000000] [C loss: 0.825411]\n",
      "548 [D loss: 0.000000, acc.: 0.00%] [G loss: 0.000000] [C loss: 0.825406]\n",
      "549 [D loss: 0.000000, acc.: 0.00%] [G loss: 0.000000] [C loss: 0.825409]\n",
      "550 [D loss: 2.370062, acc.: 87.50%] [G loss: 0.016816] [C loss: 0.851368]\n",
      "551 [D loss: 0.000000, acc.: 0.00%] [G loss: 0.000000] [C loss: 0.851372]\n",
      "552 [D loss: 0.000000, acc.: 0.00%] [G loss: 0.000000] [C loss: 0.851359]\n",
      "553 [D loss: 0.000000, acc.: 0.00%] [G loss: 0.000000] [C loss: 0.851367]\n",
      "554 [D loss: 0.000000, acc.: 0.00%] [G loss: 0.000000] [C loss: 0.851362]\n",
      "555 [D loss: 1.614525, acc.: 75.00%] [G loss: 0.000000] [C loss: 0.878992]\n"
     ]
    },
    {
     "name": "stdout",
     "output_type": "stream",
     "text": [
      "556 [D loss: 0.000000, acc.: 0.00%] [G loss: 0.000000] [C loss: 0.878996]\n",
      "557 [D loss: 0.000000, acc.: 0.00%] [G loss: 0.000000] [C loss: 0.879006]\n",
      "558 [D loss: 0.000000, acc.: 0.00%] [G loss: 0.000000] [C loss: 0.878990]\n",
      "559 [D loss: 0.000000, acc.: 0.00%] [G loss: 0.000000] [C loss: 0.878995]\n",
      "560 [D loss: 2.400057, acc.: 75.00%] [G loss: 0.021077] [C loss: 0.887906]\n",
      "561 [D loss: 0.000000, acc.: 0.00%] [G loss: 0.000000] [C loss: 0.887912]\n",
      "562 [D loss: 0.000000, acc.: 0.00%] [G loss: 0.000000] [C loss: 0.887907]\n",
      "563 [D loss: 0.000000, acc.: 0.00%] [G loss: 0.000000] [C loss: 0.887906]\n",
      "564 [D loss: 0.000000, acc.: 0.00%] [G loss: 0.000000] [C loss: 0.887909]\n",
      "565 [D loss: 2.550058, acc.: 75.00%] [G loss: 0.000000] [C loss: 0.933655]\n",
      "566 [D loss: 0.000000, acc.: 0.00%] [G loss: 0.000000] [C loss: 0.933660]\n",
      "567 [D loss: 0.000000, acc.: 0.00%] [G loss: 0.000000] [C loss: 0.933660]\n",
      "568 [D loss: 0.000000, acc.: 0.00%] [G loss: 0.000000] [C loss: 0.933652]\n",
      "569 [D loss: 0.000000, acc.: 0.00%] [G loss: 0.000000] [C loss: 0.933655]\n",
      "570 [D loss: 1.208691, acc.: 75.00%] [G loss: 0.012778] [C loss: 0.951561]\n",
      "571 [D loss: 0.000000, acc.: 0.00%] [G loss: 0.000000] [C loss: 0.951564]\n",
      "572 [D loss: 0.000000, acc.: 0.00%] [G loss: 0.000000] [C loss: 0.951558]\n",
      "573 [D loss: 0.000000, acc.: 0.00%] [G loss: 0.000000] [C loss: 0.951559]\n",
      "574 [D loss: 0.000000, acc.: 0.00%] [G loss: 0.000000] [C loss: 0.951559]\n",
      "575 [D loss: 2.976319, acc.: 75.00%] [G loss: 0.000000] [C loss: 0.990372]\n",
      "576 [D loss: 0.000000, acc.: 0.00%] [G loss: 0.000000] [C loss: 0.990368]\n",
      "577 [D loss: 0.000000, acc.: 0.00%] [G loss: 0.000000] [C loss: 0.990372]\n",
      "578 [D loss: 0.000000, acc.: 0.00%] [G loss: 0.000000] [C loss: 0.990375]\n",
      "579 [D loss: 0.000000, acc.: 0.00%] [G loss: 0.000000] [C loss: 0.990368]\n",
      "580 [D loss: 3.555351, acc.: 75.00%] [G loss: 0.021651] [C loss: 0.996779]\n",
      "581 [D loss: 0.000000, acc.: 0.00%] [G loss: 0.000000] [C loss: 0.996780]\n",
      "582 [D loss: 0.000000, acc.: 0.00%] [G loss: 0.000000] [C loss: 0.996780]\n",
      "583 [D loss: 0.000000, acc.: 0.00%] [G loss: 0.000000] [C loss: 0.996782]\n",
      "584 [D loss: 0.000000, acc.: 0.00%] [G loss: 0.000000] [C loss: 0.996774]\n",
      "585 [D loss: 3.076407, acc.: 75.00%] [G loss: 0.000000] [C loss: 0.976289]\n",
      "586 [D loss: 0.000000, acc.: 0.00%] [G loss: 0.000000] [C loss: 0.976288]\n",
      "587 [D loss: 0.000000, acc.: 0.00%] [G loss: 0.000000] [C loss: 0.976291]\n",
      "588 [D loss: 0.000000, acc.: 0.00%] [G loss: 0.000000] [C loss: 0.976288]\n",
      "589 [D loss: 0.000000, acc.: 0.00%] [G loss: 0.000000] [C loss: 0.976296]\n",
      "590 [D loss: 1.327737, acc.: 87.50%] [G loss: 0.024155] [C loss: 0.967887]\n",
      "591 [D loss: 0.000000, acc.: 0.00%] [G loss: 0.000000] [C loss: 0.967892]\n",
      "592 [D loss: 0.000000, acc.: 0.00%] [G loss: 0.000000] [C loss: 0.967888]\n",
      "593 [D loss: 0.000000, acc.: 0.00%] [G loss: 0.000000] [C loss: 0.967889]\n",
      "594 [D loss: 0.000000, acc.: 0.00%] [G loss: 0.000000] [C loss: 0.967890]\n",
      "595 [D loss: 1.201518, acc.: 75.00%] [G loss: 0.000000] [C loss: 0.938650]\n",
      "596 [D loss: 0.000000, acc.: 0.00%] [G loss: 0.000000] [C loss: 0.938650]\n",
      "597 [D loss: 0.000000, acc.: 0.00%] [G loss: 0.000000] [C loss: 0.938652]\n",
      "598 [D loss: 0.000000, acc.: 0.00%] [G loss: 0.000000] [C loss: 0.938654]\n",
      "599 [D loss: 0.000000, acc.: 0.00%] [G loss: 0.000000] [C loss: 0.938651]\n",
      "600 [D loss: 2.370053, acc.: 62.50%] [G loss: 0.020472] [C loss: 0.853471]\n",
      "601 [D loss: 0.000000, acc.: 0.00%] [G loss: 0.000000] [C loss: 0.853477]\n",
      "602 [D loss: 0.000000, acc.: 0.00%] [G loss: 0.000000] [C loss: 0.853475]\n",
      "603 [D loss: 0.000000, acc.: 0.00%] [G loss: 0.000000] [C loss: 0.853472]\n",
      "604 [D loss: 0.000000, acc.: 0.00%] [G loss: 0.000000] [C loss: 0.853473]\n",
      "605 [D loss: 1.304263, acc.: 62.50%] [G loss: 0.000000] [C loss: 0.743629]\n",
      "606 [D loss: 0.000000, acc.: 0.00%] [G loss: 0.000000] [C loss: 0.743627]\n",
      "607 [D loss: 0.000000, acc.: 0.00%] [G loss: 0.000000] [C loss: 0.743627]\n",
      "608 [D loss: 0.000000, acc.: 0.00%] [G loss: 0.000000] [C loss: 0.743622]\n",
      "609 [D loss: 0.000000, acc.: 0.00%] [G loss: 0.000000] [C loss: 0.743623]\n",
      "610 [D loss: 1.559033, acc.: 12.50%] [G loss: 0.037697] [C loss: 0.628451]\n",
      "611 [D loss: 0.000000, acc.: 0.00%] [G loss: 0.000000] [C loss: 0.628455]\n",
      "612 [D loss: 0.000000, acc.: 0.00%] [G loss: 0.000000] [C loss: 0.628451]\n",
      "613 [D loss: 0.000000, acc.: 0.00%] [G loss: 0.000000] [C loss: 0.628453]\n",
      "614 [D loss: 0.000000, acc.: 0.00%] [G loss: 0.000000] [C loss: 0.628451]\n",
      "615 [D loss: 1.168901, acc.: 25.00%] [G loss: 0.000000] [C loss: 0.547099]\n",
      "616 [D loss: 0.000000, acc.: 0.00%] [G loss: 0.000000] [C loss: 0.547096]\n",
      "617 [D loss: 0.000000, acc.: 0.00%] [G loss: 0.000000] [C loss: 0.547096]\n",
      "618 [D loss: 0.000000, acc.: 0.00%] [G loss: 0.000000] [C loss: 0.547097]\n",
      "619 [D loss: 0.000000, acc.: 0.00%] [G loss: 0.000000] [C loss: 0.547098]\n",
      "620 [D loss: 2.419508, acc.: 37.50%] [G loss: 0.014616] [C loss: 0.532326]\n",
      "621 [D loss: 0.000000, acc.: 0.00%] [G loss: 0.000000] [C loss: 0.532328]\n",
      "622 [D loss: 0.000000, acc.: 0.00%] [G loss: 0.000000] [C loss: 0.532331]\n",
      "623 [D loss: 0.000000, acc.: 0.00%] [G loss: 0.000000] [C loss: 0.532332]\n",
      "624 [D loss: 0.000000, acc.: 0.00%] [G loss: 0.000000] [C loss: 0.532331]\n",
      "625 [D loss: 1.364724, acc.: 37.50%] [G loss: 0.000000] [C loss: 0.558098]\n",
      "626 [D loss: 0.000000, acc.: 0.00%] [G loss: 0.000000] [C loss: 0.558100]\n",
      "627 [D loss: 0.000000, acc.: 0.00%] [G loss: 0.000000] [C loss: 0.558099]\n",
      "628 [D loss: 0.000000, acc.: 0.00%] [G loss: 0.000000] [C loss: 0.558098]\n",
      "629 [D loss: 0.000000, acc.: 0.00%] [G loss: 0.000000] [C loss: 0.558097]\n",
      "630 [D loss: 1.899735, acc.: 12.50%] [G loss: 0.014565] [C loss: 0.574200]\n",
      "631 [D loss: 0.000000, acc.: 0.00%] [G loss: 0.000000] [C loss: 0.574199]\n",
      "632 [D loss: 0.000000, acc.: 0.00%] [G loss: 0.000000] [C loss: 0.574202]\n",
      "633 [D loss: 0.000000, acc.: 0.00%] [G loss: 0.000000] [C loss: 0.574205]\n",
      "634 [D loss: 0.000000, acc.: 0.00%] [G loss: 0.000000] [C loss: 0.574201]\n",
      "635 [D loss: 1.272356, acc.: 25.00%] [G loss: 0.000000] [C loss: 0.590567]\n",
      "636 [D loss: 0.000000, acc.: 0.00%] [G loss: 0.000000] [C loss: 0.590568]\n",
      "637 [D loss: 0.000000, acc.: 0.00%] [G loss: 0.000000] [C loss: 0.590567]\n",
      "638 [D loss: 0.000000, acc.: 0.00%] [G loss: 0.000000] [C loss: 0.590568]\n",
      "639 [D loss: 0.000000, acc.: 0.00%] [G loss: 0.000000] [C loss: 0.590567]\n",
      "640 [D loss: 2.493287, acc.: 25.00%] [G loss: 0.019243] [C loss: 0.614275]\n",
      "641 [D loss: 0.000000, acc.: 0.00%] [G loss: 0.000000] [C loss: 0.614274]\n",
      "642 [D loss: 0.000000, acc.: 0.00%] [G loss: 0.000000] [C loss: 0.614277]\n",
      "643 [D loss: 0.000000, acc.: 0.00%] [G loss: 0.000000] [C loss: 0.614278]\n",
      "644 [D loss: 0.000000, acc.: 0.00%] [G loss: 0.000000] [C loss: 0.614273]\n",
      "645 [D loss: 1.822874, acc.: 25.00%] [G loss: 0.000000] [C loss: 0.650366]\n",
      "646 [D loss: 0.000000, acc.: 0.00%] [G loss: 0.000000] [C loss: 0.650364]\n",
      "647 [D loss: 0.000000, acc.: 0.00%] [G loss: 0.000000] [C loss: 0.650365]\n",
      "648 [D loss: 0.000000, acc.: 0.00%] [G loss: 0.000000] [C loss: 0.650365]\n",
      "649 [D loss: 0.000000, acc.: 0.00%] [G loss: 0.000000] [C loss: 0.650365]\n",
      "650 [D loss: 1.332683, acc.: 25.00%] [G loss: 0.019826] [C loss: 0.673223]\n",
      "651 [D loss: 0.000000, acc.: 0.00%] [G loss: 0.000000] [C loss: 0.673227]\n",
      "652 [D loss: 0.000000, acc.: 0.00%] [G loss: 0.000000] [C loss: 0.673223]\n",
      "653 [D loss: 0.000000, acc.: 0.00%] [G loss: 0.000000] [C loss: 0.673225]\n",
      "654 [D loss: 0.000000, acc.: 0.00%] [G loss: 0.000000] [C loss: 0.673222]\n",
      "655 [D loss: 1.439343, acc.: 37.50%] [G loss: 0.000000] [C loss: 0.718220]\n",
      "656 [D loss: 0.000000, acc.: 0.00%] [G loss: 0.000000] [C loss: 0.718224]\n",
      "657 [D loss: 0.000000, acc.: 0.00%] [G loss: 0.000000] [C loss: 0.718225]\n",
      "658 [D loss: 0.000000, acc.: 0.00%] [G loss: 0.000000] [C loss: 0.718227]\n",
      "659 [D loss: 0.000000, acc.: 0.00%] [G loss: 0.000000] [C loss: 0.718229]\n",
      "660 [D loss: 1.488485, acc.: 75.00%] [G loss: 0.017904] [C loss: 0.760787]\n",
      "661 [D loss: 0.000000, acc.: 0.00%] [G loss: 0.000000] [C loss: 0.760784]\n",
      "662 [D loss: 0.000000, acc.: 0.00%] [G loss: 0.000000] [C loss: 0.760784]\n",
      "663 [D loss: 0.000000, acc.: 0.00%] [G loss: 0.000000] [C loss: 0.760786]\n",
      "664 [D loss: 0.000000, acc.: 0.00%] [G loss: 0.000000] [C loss: 0.760786]\n",
      "665 [D loss: 1.786453, acc.: 75.00%] [G loss: 0.000000] [C loss: 0.782542]\n",
      "666 [D loss: 0.000000, acc.: 0.00%] [G loss: 0.000000] [C loss: 0.782541]\n"
     ]
    },
    {
     "name": "stdout",
     "output_type": "stream",
     "text": [
      "667 [D loss: 0.000000, acc.: 0.00%] [G loss: 0.000000] [C loss: 0.782543]\n",
      "668 [D loss: 0.000000, acc.: 0.00%] [G loss: 0.000000] [C loss: 0.782544]\n",
      "669 [D loss: 0.000000, acc.: 0.00%] [G loss: 0.000000] [C loss: 0.782546]\n",
      "670 [D loss: 2.174588, acc.: 75.00%] [G loss: 0.017713] [C loss: 0.794036]\n",
      "671 [D loss: 0.000000, acc.: 0.00%] [G loss: 0.000000] [C loss: 0.794035]\n",
      "672 [D loss: 0.000000, acc.: 0.00%] [G loss: 0.000000] [C loss: 0.794035]\n",
      "673 [D loss: 0.000000, acc.: 0.00%] [G loss: 0.000000] [C loss: 0.794037]\n",
      "674 [D loss: 0.000000, acc.: 0.00%] [G loss: 0.000000] [C loss: 0.794036]\n",
      "675 [D loss: 1.493868, acc.: 75.00%] [G loss: 0.000000] [C loss: 0.793378]\n",
      "676 [D loss: 0.000000, acc.: 0.00%] [G loss: 0.000000] [C loss: 0.793375]\n",
      "677 [D loss: 0.000000, acc.: 0.00%] [G loss: 0.000000] [C loss: 0.793380]\n",
      "678 [D loss: 0.000000, acc.: 0.00%] [G loss: 0.000000] [C loss: 0.793377]\n",
      "679 [D loss: 0.000000, acc.: 0.00%] [G loss: 0.000000] [C loss: 0.793381]\n",
      "680 [D loss: 2.249876, acc.: 87.50%] [G loss: 0.017101] [C loss: 0.817157]\n",
      "681 [D loss: 0.000000, acc.: 0.00%] [G loss: 0.000000] [C loss: 0.817158]\n",
      "682 [D loss: 0.000000, acc.: 0.00%] [G loss: 0.000000] [C loss: 0.817158]\n",
      "683 [D loss: 0.000000, acc.: 0.00%] [G loss: 0.000000] [C loss: 0.817155]\n",
      "684 [D loss: 0.000000, acc.: 0.00%] [G loss: 0.000000] [C loss: 0.817161]\n",
      "685 [D loss: 2.098161, acc.: 62.50%] [G loss: 0.000000] [C loss: 0.786449]\n",
      "686 [D loss: 0.000000, acc.: 0.00%] [G loss: 0.000000] [C loss: 0.786448]\n",
      "687 [D loss: 0.000000, acc.: 0.00%] [G loss: 0.000000] [C loss: 0.786452]\n",
      "688 [D loss: 0.000000, acc.: 0.00%] [G loss: 0.000000] [C loss: 0.786446]\n",
      "689 [D loss: 0.000000, acc.: 0.00%] [G loss: 0.000000] [C loss: 0.786447]\n",
      "690 [D loss: 2.621382, acc.: 75.00%] [G loss: 0.016744] [C loss: 0.744940]\n",
      "691 [D loss: 0.000000, acc.: 0.00%] [G loss: 0.000000] [C loss: 0.744940]\n"
     ]
    },
    {
     "ename": "KeyboardInterrupt",
     "evalue": "",
     "output_type": "error",
     "traceback": [
      "\u001b[1;31m---------------------------------------------------------------------------\u001b[0m",
      "\u001b[1;31mKeyboardInterrupt\u001b[0m                         Traceback (most recent call last)",
      "\u001b[1;32m<ipython-input-477-8e1e408adadd>\u001b[0m in \u001b[0;36m<module>\u001b[1;34m()\u001b[0m\n\u001b[0;32m      1\u001b[0m \u001b[0mimportlib\u001b[0m\u001b[1;33m.\u001b[0m\u001b[0mreload\u001b[0m\u001b[1;33m(\u001b[0m\u001b[0mdcg\u001b[0m\u001b[1;33m)\u001b[0m\u001b[1;33m\u001b[0m\u001b[0m\n\u001b[0;32m      2\u001b[0m \u001b[0mdcgan\u001b[0m \u001b[1;33m=\u001b[0m \u001b[0mdcg\u001b[0m\u001b[1;33m.\u001b[0m\u001b[0mDCGAN\u001b[0m\u001b[1;33m(\u001b[0m\u001b[1;33m)\u001b[0m\u001b[1;33m\u001b[0m\u001b[0m\n\u001b[1;32m----> 3\u001b[1;33m \u001b[0mdcgan\u001b[0m\u001b[1;33m.\u001b[0m\u001b[0mtrain\u001b[0m\u001b[1;33m(\u001b[0m\u001b[0mepochs\u001b[0m\u001b[1;33m=\u001b[0m\u001b[1;36m4000\u001b[0m\u001b[1;33m,\u001b[0m \u001b[0mbatch_size\u001b[0m\u001b[1;33m=\u001b[0m\u001b[1;36m4\u001b[0m\u001b[1;33m,\u001b[0m \u001b[0msave_interval\u001b[0m\u001b[1;33m=\u001b[0m\u001b[1;36m50\u001b[0m\u001b[1;33m)\u001b[0m\u001b[1;33m\u001b[0m\u001b[0m\n\u001b[0m",
      "\u001b[1;32m~\\Documents\\CBCT\\dcgan.py\u001b[0m in \u001b[0;36mtrain\u001b[1;34m(self, epochs, batch_size, save_interval)\u001b[0m\n\u001b[0;32m    110\u001b[0m             \u001b[1;32melse\u001b[0m\u001b[1;33m:\u001b[0m\u001b[1;33m\u001b[0m\u001b[0m\n\u001b[0;32m    111\u001b[0m                 \u001b[0mg_loss\u001b[0m \u001b[1;33m=\u001b[0m \u001b[1;36m0\u001b[0m\u001b[1;33m\u001b[0m\u001b[0m\n\u001b[1;32m--> 112\u001b[1;33m             \u001b[0mc_loss\u001b[0m \u001b[1;33m=\u001b[0m \u001b[0mself\u001b[0m\u001b[1;33m.\u001b[0m\u001b[0mcombined\u001b[0m\u001b[1;33m.\u001b[0m\u001b[0mtrain_on_batch\u001b[0m\u001b[1;33m(\u001b[0m\u001b[0mX_train\u001b[0m\u001b[1;33m,\u001b[0m \u001b[0mnp\u001b[0m\u001b[1;33m.\u001b[0m\u001b[0mones\u001b[0m\u001b[1;33m(\u001b[0m\u001b[1;33m(\u001b[0m\u001b[0mbatch_size\u001b[0m\u001b[1;33m,\u001b[0m \u001b[1;36m1\u001b[0m\u001b[1;33m)\u001b[0m\u001b[1;33m)\u001b[0m\u001b[1;33m)\u001b[0m\u001b[1;33m\u001b[0m\u001b[0m\n\u001b[0m\u001b[0;32m    113\u001b[0m \u001b[1;33m\u001b[0m\u001b[0m\n\u001b[0;32m    114\u001b[0m             \u001b[1;31m# Plot the progress\u001b[0m\u001b[1;33m\u001b[0m\u001b[1;33m\u001b[0m\u001b[0m\n",
      "\u001b[1;32m~\\AppData\\Local\\conda\\conda\\envs\\old-keras\\lib\\site-packages\\keras-2.1.2-py3.5.egg\\keras\\engine\\training.py\u001b[0m in \u001b[0;36mtrain_on_batch\u001b[1;34m(self, x, y, sample_weight, class_weight)\u001b[0m\n\u001b[0;32m   1837\u001b[0m             \u001b[0mins\u001b[0m \u001b[1;33m=\u001b[0m \u001b[0mx\u001b[0m \u001b[1;33m+\u001b[0m \u001b[0my\u001b[0m \u001b[1;33m+\u001b[0m \u001b[0msample_weights\u001b[0m\u001b[1;33m\u001b[0m\u001b[0m\n\u001b[0;32m   1838\u001b[0m         \u001b[0mself\u001b[0m\u001b[1;33m.\u001b[0m\u001b[0m_make_train_function\u001b[0m\u001b[1;33m(\u001b[0m\u001b[1;33m)\u001b[0m\u001b[1;33m\u001b[0m\u001b[0m\n\u001b[1;32m-> 1839\u001b[1;33m         \u001b[0moutputs\u001b[0m \u001b[1;33m=\u001b[0m \u001b[0mself\u001b[0m\u001b[1;33m.\u001b[0m\u001b[0mtrain_function\u001b[0m\u001b[1;33m(\u001b[0m\u001b[0mins\u001b[0m\u001b[1;33m)\u001b[0m\u001b[1;33m\u001b[0m\u001b[0m\n\u001b[0m\u001b[0;32m   1840\u001b[0m         \u001b[1;32mif\u001b[0m \u001b[0mlen\u001b[0m\u001b[1;33m(\u001b[0m\u001b[0moutputs\u001b[0m\u001b[1;33m)\u001b[0m \u001b[1;33m==\u001b[0m \u001b[1;36m1\u001b[0m\u001b[1;33m:\u001b[0m\u001b[1;33m\u001b[0m\u001b[0m\n\u001b[0;32m   1841\u001b[0m             \u001b[1;32mreturn\u001b[0m \u001b[0moutputs\u001b[0m\u001b[1;33m[\u001b[0m\u001b[1;36m0\u001b[0m\u001b[1;33m]\u001b[0m\u001b[1;33m\u001b[0m\u001b[0m\n",
      "\u001b[1;32m~\\AppData\\Local\\conda\\conda\\envs\\old-keras\\lib\\site-packages\\keras-2.1.2-py3.5.egg\\keras\\backend\\tensorflow_backend.py\u001b[0m in \u001b[0;36m__call__\u001b[1;34m(self, inputs)\u001b[0m\n\u001b[0;32m   2472\u001b[0m         \u001b[0msession\u001b[0m \u001b[1;33m=\u001b[0m \u001b[0mget_session\u001b[0m\u001b[1;33m(\u001b[0m\u001b[1;33m)\u001b[0m\u001b[1;33m\u001b[0m\u001b[0m\n\u001b[0;32m   2473\u001b[0m         updated = session.run(fetches=fetches, feed_dict=feed_dict,\n\u001b[1;32m-> 2474\u001b[1;33m                               **self.session_kwargs)\n\u001b[0m\u001b[0;32m   2475\u001b[0m         \u001b[1;32mreturn\u001b[0m \u001b[0mupdated\u001b[0m\u001b[1;33m[\u001b[0m\u001b[1;33m:\u001b[0m\u001b[0mlen\u001b[0m\u001b[1;33m(\u001b[0m\u001b[0mself\u001b[0m\u001b[1;33m.\u001b[0m\u001b[0moutputs\u001b[0m\u001b[1;33m)\u001b[0m\u001b[1;33m]\u001b[0m\u001b[1;33m\u001b[0m\u001b[0m\n\u001b[0;32m   2476\u001b[0m \u001b[1;33m\u001b[0m\u001b[0m\n",
      "\u001b[1;32m~\\AppData\\Local\\conda\\conda\\envs\\old-keras\\lib\\site-packages\\tensorflow\\python\\client\\session.py\u001b[0m in \u001b[0;36mrun\u001b[1;34m(self, fetches, feed_dict, options, run_metadata)\u001b[0m\n\u001b[0;32m    898\u001b[0m     \u001b[1;32mtry\u001b[0m\u001b[1;33m:\u001b[0m\u001b[1;33m\u001b[0m\u001b[0m\n\u001b[0;32m    899\u001b[0m       result = self._run(None, fetches, feed_dict, options_ptr,\n\u001b[1;32m--> 900\u001b[1;33m                          run_metadata_ptr)\n\u001b[0m\u001b[0;32m    901\u001b[0m       \u001b[1;32mif\u001b[0m \u001b[0mrun_metadata\u001b[0m\u001b[1;33m:\u001b[0m\u001b[1;33m\u001b[0m\u001b[0m\n\u001b[0;32m    902\u001b[0m         \u001b[0mproto_data\u001b[0m \u001b[1;33m=\u001b[0m \u001b[0mtf_session\u001b[0m\u001b[1;33m.\u001b[0m\u001b[0mTF_GetBuffer\u001b[0m\u001b[1;33m(\u001b[0m\u001b[0mrun_metadata_ptr\u001b[0m\u001b[1;33m)\u001b[0m\u001b[1;33m\u001b[0m\u001b[0m\n",
      "\u001b[1;32m~\\AppData\\Local\\conda\\conda\\envs\\old-keras\\lib\\site-packages\\tensorflow\\python\\client\\session.py\u001b[0m in \u001b[0;36m_run\u001b[1;34m(self, handle, fetches, feed_dict, options, run_metadata)\u001b[0m\n\u001b[0;32m   1133\u001b[0m     \u001b[1;32mif\u001b[0m \u001b[0mfinal_fetches\u001b[0m \u001b[1;32mor\u001b[0m \u001b[0mfinal_targets\u001b[0m \u001b[1;32mor\u001b[0m \u001b[1;33m(\u001b[0m\u001b[0mhandle\u001b[0m \u001b[1;32mand\u001b[0m \u001b[0mfeed_dict_tensor\u001b[0m\u001b[1;33m)\u001b[0m\u001b[1;33m:\u001b[0m\u001b[1;33m\u001b[0m\u001b[0m\n\u001b[0;32m   1134\u001b[0m       results = self._do_run(handle, final_targets, final_fetches,\n\u001b[1;32m-> 1135\u001b[1;33m                              feed_dict_tensor, options, run_metadata)\n\u001b[0m\u001b[0;32m   1136\u001b[0m     \u001b[1;32melse\u001b[0m\u001b[1;33m:\u001b[0m\u001b[1;33m\u001b[0m\u001b[0m\n\u001b[0;32m   1137\u001b[0m       \u001b[0mresults\u001b[0m \u001b[1;33m=\u001b[0m \u001b[1;33m[\u001b[0m\u001b[1;33m]\u001b[0m\u001b[1;33m\u001b[0m\u001b[0m\n",
      "\u001b[1;32m~\\AppData\\Local\\conda\\conda\\envs\\old-keras\\lib\\site-packages\\tensorflow\\python\\client\\session.py\u001b[0m in \u001b[0;36m_do_run\u001b[1;34m(self, handle, target_list, fetch_list, feed_dict, options, run_metadata)\u001b[0m\n\u001b[0;32m   1314\u001b[0m     \u001b[1;32mif\u001b[0m \u001b[0mhandle\u001b[0m \u001b[1;32mis\u001b[0m \u001b[1;32mNone\u001b[0m\u001b[1;33m:\u001b[0m\u001b[1;33m\u001b[0m\u001b[0m\n\u001b[0;32m   1315\u001b[0m       return self._do_call(_run_fn, feeds, fetches, targets, options,\n\u001b[1;32m-> 1316\u001b[1;33m                            run_metadata)\n\u001b[0m\u001b[0;32m   1317\u001b[0m     \u001b[1;32melse\u001b[0m\u001b[1;33m:\u001b[0m\u001b[1;33m\u001b[0m\u001b[0m\n\u001b[0;32m   1318\u001b[0m       \u001b[1;32mreturn\u001b[0m \u001b[0mself\u001b[0m\u001b[1;33m.\u001b[0m\u001b[0m_do_call\u001b[0m\u001b[1;33m(\u001b[0m\u001b[0m_prun_fn\u001b[0m\u001b[1;33m,\u001b[0m \u001b[0mhandle\u001b[0m\u001b[1;33m,\u001b[0m \u001b[0mfeeds\u001b[0m\u001b[1;33m,\u001b[0m \u001b[0mfetches\u001b[0m\u001b[1;33m)\u001b[0m\u001b[1;33m\u001b[0m\u001b[0m\n",
      "\u001b[1;32m~\\AppData\\Local\\conda\\conda\\envs\\old-keras\\lib\\site-packages\\tensorflow\\python\\client\\session.py\u001b[0m in \u001b[0;36m_do_call\u001b[1;34m(self, fn, *args)\u001b[0m\n\u001b[0;32m   1320\u001b[0m   \u001b[1;32mdef\u001b[0m \u001b[0m_do_call\u001b[0m\u001b[1;33m(\u001b[0m\u001b[0mself\u001b[0m\u001b[1;33m,\u001b[0m \u001b[0mfn\u001b[0m\u001b[1;33m,\u001b[0m \u001b[1;33m*\u001b[0m\u001b[0margs\u001b[0m\u001b[1;33m)\u001b[0m\u001b[1;33m:\u001b[0m\u001b[1;33m\u001b[0m\u001b[0m\n\u001b[0;32m   1321\u001b[0m     \u001b[1;32mtry\u001b[0m\u001b[1;33m:\u001b[0m\u001b[1;33m\u001b[0m\u001b[0m\n\u001b[1;32m-> 1322\u001b[1;33m       \u001b[1;32mreturn\u001b[0m \u001b[0mfn\u001b[0m\u001b[1;33m(\u001b[0m\u001b[1;33m*\u001b[0m\u001b[0margs\u001b[0m\u001b[1;33m)\u001b[0m\u001b[1;33m\u001b[0m\u001b[0m\n\u001b[0m\u001b[0;32m   1323\u001b[0m     \u001b[1;32mexcept\u001b[0m \u001b[0merrors\u001b[0m\u001b[1;33m.\u001b[0m\u001b[0mOpError\u001b[0m \u001b[1;32mas\u001b[0m \u001b[0me\u001b[0m\u001b[1;33m:\u001b[0m\u001b[1;33m\u001b[0m\u001b[0m\n\u001b[0;32m   1324\u001b[0m       \u001b[0mmessage\u001b[0m \u001b[1;33m=\u001b[0m \u001b[0mcompat\u001b[0m\u001b[1;33m.\u001b[0m\u001b[0mas_text\u001b[0m\u001b[1;33m(\u001b[0m\u001b[0me\u001b[0m\u001b[1;33m.\u001b[0m\u001b[0mmessage\u001b[0m\u001b[1;33m)\u001b[0m\u001b[1;33m\u001b[0m\u001b[0m\n",
      "\u001b[1;32m~\\AppData\\Local\\conda\\conda\\envs\\old-keras\\lib\\site-packages\\tensorflow\\python\\client\\session.py\u001b[0m in \u001b[0;36m_run_fn\u001b[1;34m(feed_dict, fetch_list, target_list, options, run_metadata)\u001b[0m\n\u001b[0;32m   1305\u001b[0m       \u001b[0mself\u001b[0m\u001b[1;33m.\u001b[0m\u001b[0m_extend_graph\u001b[0m\u001b[1;33m(\u001b[0m\u001b[1;33m)\u001b[0m\u001b[1;33m\u001b[0m\u001b[0m\n\u001b[0;32m   1306\u001b[0m       return self._call_tf_sessionrun(\n\u001b[1;32m-> 1307\u001b[1;33m           options, feed_dict, fetch_list, target_list, run_metadata)\n\u001b[0m\u001b[0;32m   1308\u001b[0m \u001b[1;33m\u001b[0m\u001b[0m\n\u001b[0;32m   1309\u001b[0m     \u001b[1;32mdef\u001b[0m \u001b[0m_prun_fn\u001b[0m\u001b[1;33m(\u001b[0m\u001b[0mhandle\u001b[0m\u001b[1;33m,\u001b[0m \u001b[0mfeed_dict\u001b[0m\u001b[1;33m,\u001b[0m \u001b[0mfetch_list\u001b[0m\u001b[1;33m)\u001b[0m\u001b[1;33m:\u001b[0m\u001b[1;33m\u001b[0m\u001b[0m\n",
      "\u001b[1;32m~\\AppData\\Local\\conda\\conda\\envs\\old-keras\\lib\\site-packages\\tensorflow\\python\\client\\session.py\u001b[0m in \u001b[0;36m_call_tf_sessionrun\u001b[1;34m(self, options, feed_dict, fetch_list, target_list, run_metadata)\u001b[0m\n\u001b[0;32m   1407\u001b[0m       return tf_session.TF_SessionRun_wrapper(\n\u001b[0;32m   1408\u001b[0m           \u001b[0mself\u001b[0m\u001b[1;33m.\u001b[0m\u001b[0m_session\u001b[0m\u001b[1;33m,\u001b[0m \u001b[0moptions\u001b[0m\u001b[1;33m,\u001b[0m \u001b[0mfeed_dict\u001b[0m\u001b[1;33m,\u001b[0m \u001b[0mfetch_list\u001b[0m\u001b[1;33m,\u001b[0m \u001b[0mtarget_list\u001b[0m\u001b[1;33m,\u001b[0m\u001b[1;33m\u001b[0m\u001b[0m\n\u001b[1;32m-> 1409\u001b[1;33m           run_metadata)\n\u001b[0m\u001b[0;32m   1410\u001b[0m     \u001b[1;32melse\u001b[0m\u001b[1;33m:\u001b[0m\u001b[1;33m\u001b[0m\u001b[0m\n\u001b[0;32m   1411\u001b[0m       \u001b[1;32mwith\u001b[0m \u001b[0merrors\u001b[0m\u001b[1;33m.\u001b[0m\u001b[0mraise_exception_on_not_ok_status\u001b[0m\u001b[1;33m(\u001b[0m\u001b[1;33m)\u001b[0m \u001b[1;32mas\u001b[0m \u001b[0mstatus\u001b[0m\u001b[1;33m:\u001b[0m\u001b[1;33m\u001b[0m\u001b[0m\n",
      "\u001b[1;31mKeyboardInterrupt\u001b[0m: "
     ]
    }
   ],
   "source": [
    "importlib.reload(dcg)\n",
    "dcgan = dcg.DCGAN()\n",
    "dcgan.train(epochs=4000, batch_size=4, save_interval=50)"
   ]
  },
  {
   "cell_type": "code",
   "execution_count": null,
   "metadata": {
    "collapsed": true
   },
   "outputs": [],
   "source": []
  },
  {
   "cell_type": "code",
   "execution_count": 73,
   "metadata": {
    "collapsed": true
   },
   "outputs": [],
   "source": [
    "img_dir = r\"D:\\CBCT\\AARON\"\n",
    "dcm_path = img_dir+\"\\\\15814.dcm\""
   ]
  },
  {
   "cell_type": "code",
   "execution_count": 74,
   "metadata": {
    "collapsed": true
   },
   "outputs": [],
   "source": [
    "dicom_input = compressed_dicom.read_file(dcm_path,\n",
    "                                       defer_size=100,\n",
    "                                       stop_before_pixels=False,\n",
    "                                       force=False)"
   ]
  },
  {
   "cell_type": "code",
   "execution_count": 75,
   "metadata": {
    "collapsed": true
   },
   "outputs": [],
   "source": [
    "cine_rate = float(dicom_input[('0018', '0040')].value)\n",
    "kvp = float(dicom_input[('0018', '0060')].value)\n",
    "d_detector = int(dicom_input[('0018', '1110')].value)\n",
    "d_patient = int(dicom_input[('0018', '1111')].value)\n",
    "t_exposure = int(dicom_input[('0018', '1150')].value)\n",
    "current = int(dicom_input[('0018', '1151')].value)\n",
    "exposure = int(dicom_input[('0018', '1152')].value)\n",
    "pixel_spacing = dicom_input[('0018', '1164')].value\n",
    "angle1 = float(dicom_input[('0018', '1510')].value)\n",
    "angle2 = float(dicom_input[('0018', '1511')].value)\n",
    "angle1_increment = dicom_input[('0018', '1520')].value\n",
    "angle2_increment = dicom_input[('0018', '1521')].value\n",
    "shutter_edges = [int(dicom_input[('0018', str(x))].value) for x in [1602, 1604, 1606, 1608]]"
   ]
  },
  {
   "cell_type": "code",
   "execution_count": null,
   "metadata": {
    "collapsed": true
   },
   "outputs": [],
   "source": [
    "proj_imgs, _ = hf.dcm_load(dcm_path)\n",
    "proj_imgs = np.transpose(proj_imgs, (1,2,0))\n",
    "proj_imgs_unscaled = copy.deepcopy(proj_imgs)\n",
    "proj_imgs = (proj_imgs - np.amin(proj_imgs)) / (np.amax(proj_imgs) - np.amin(proj_imgs))"
   ]
  },
  {
   "cell_type": "code",
   "execution_count": 82,
   "metadata": {
    "collapsed": true
   },
   "outputs": [],
   "source": [
    "proj_imgs = proj_imgs[:, :, 50:-50]\n",
    "rows, frames, cols = proj_imgs.shape"
   ]
  },
  {
   "cell_type": "code",
   "execution_count": 83,
   "metadata": {
    "scrolled": false
   },
   "outputs": [
    {
     "data": {
      "text/plain": [
       "<matplotlib.image.AxesImage at 0x205ff89fcc0>"
      ]
     },
     "execution_count": 83,
     "metadata": {},
     "output_type": "execute_result"
    },
    {
     "data": {
      "image/png": "[encoded data removed]",
      "text/plain": [
       "<matplotlib.figure.Figure at 0x205f7527588>"
      ]
     },
     "metadata": {},
     "output_type": "display_data"
    }
   ],
   "source": [
    "pylab.imshow(proj_imgs[:,100,:], cmap='gray')"
   ]
  },
  {
   "cell_type": "code",
   "execution_count": 84,
   "metadata": {},
   "outputs": [
    {
     "data": {
      "text/plain": [
       "(512, 308, 512)"
      ]
     },
     "execution_count": 84,
     "metadata": {},
     "output_type": "execute_result"
    }
   ],
   "source": [
    "proj_imgs.shape"
   ]
  },
  {
   "cell_type": "code",
   "execution_count": null,
   "metadata": {
    "collapsed": true
   },
   "outputs": [],
   "source": [
    "import astra"
   ]
  },
  {
   "cell_type": "code",
   "execution_count": null,
   "metadata": {
    "collapsed": true
   },
   "outputs": [],
   "source": []
  },
  {
   "cell_type": "code",
   "execution_count": null,
   "metadata": {
    "collapsed": true
   },
   "outputs": [],
   "source": []
  },
  {
   "cell_type": "code",
   "execution_count": 394,
   "metadata": {
    "collapsed": true
   },
   "outputs": [],
   "source": [
    "rec_cropped = rec[:,10:120,20:170]\n",
    "rec_cropped[rec_cropped < 0] = 0\n",
    "rec_cropped = np.transpose(rec_cropped, (2,1,0))"
   ]
  },
  {
   "cell_type": "code",
   "execution_count": 395,
   "metadata": {
    "collapsed": true
   },
   "outputs": [],
   "source": [
    "rec_cropped = rec_cropped * -1"
   ]
  },
  {
   "cell_type": "code",
   "execution_count": 366,
   "metadata": {},
   "outputs": [
    {
     "data": {
      "image/png": "[encoded data removed]",
      "text/plain": [
       "<matplotlib.figure.Figure at 0x203843a0e10>"
      ]
     },
     "metadata": {},
     "output_type": "display_data"
    }
   ],
   "source": [
    "hf.draw_slices(rec_cropped)"
   ]
  },
  {
   "cell_type": "code",
   "execution_count": 306,
   "metadata": {
    "scrolled": true
   },
   "outputs": [
    {
     "data": {
      "text/plain": [
       "-59.913471"
      ]
     },
     "execution_count": 306,
     "metadata": {},
     "output_type": "execute_result"
    }
   ],
   "source": [
    "print(np.amin(rec[80,10:120,20:170]), np.amax(rec[80,10:120,20:170]))"
   ]
  },
  {
   "cell_type": "markdown",
   "metadata": {
    "scrolled": true
   },
   "source": [
    "pylab.imshow(np.transpose(rec[:,:,::-1][50,20:170,10:120], (1,0)), vmin=0.0005)"
   ]
  },
  {
   "cell_type": "code",
   "execution_count": 23,
   "metadata": {},
   "outputs": [
    {
     "data": {
      "text/plain": [
       "<matplotlib.image.AxesImage at 0x20595ca9908>"
      ]
     },
     "execution_count": 23,
     "metadata": {},
     "output_type": "execute_result"
    },
    {
     "data": {
      "image/png": "[encoded data removed]",
      "text/plain": [
       "<matplotlib.figure.Figure at 0x20595c95f28>"
      ]
     },
     "metadata": {},
     "output_type": "display_data"
    }
   ],
   "source": [
    "pylab.imshow(rec[100,10:120,20:170])#, vmin=-50, vmax=150) #vmin=.0010, vmax=0.0035)"
   ]
  },
  {
   "cell_type": "code",
   "execution_count": null,
   "metadata": {
    "collapsed": true
   },
   "outputs": [],
   "source": []
  },
  {
   "cell_type": "code",
   "execution_count": 27,
   "metadata": {
    "collapsed": true
   },
   "outputs": [],
   "source": [
    "recon_img = hf.dcm_load(img_dir+\"\\\\15810.dcm\")\n",
    "recon_img = np.transpose(recon_img, (1,2,0))[::-1,:,:]"
   ]
  }
 ],
 "metadata": {
  "kernelspec": {
   "display_name": "Python 3",
   "language": "python",
   "name": "python3"
  },
  "varInspector": {
   "cols": {
    "lenName": 16,
    "lenType": 16,
    "lenVar": 40
   },
   "kernels_config": {
    "python": {
     "delete_cmd_postfix": "",
     "delete_cmd_prefix": "del ",
     "library": "var_list.py",
     "varRefreshCmd": "print(var_dic_list())"
    },
    "r": {
     "delete_cmd_postfix": ") ",
     "delete_cmd_prefix": "rm(",
     "library": "var_list.r",
     "varRefreshCmd": "cat(var_dic_list()) "
    }
   },
   "types_to_exclude": [
    "module",
    "function",
    "builtin_function_or_method",
    "instance",
    "_Feature"
   ],
   "window_display": false
  }
 },
 "nbformat": 4,
 "nbformat_minor": 2
}
