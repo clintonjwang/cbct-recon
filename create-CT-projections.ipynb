{
 "cells": [
  {
   "cell_type": "code",
   "execution_count": 76,
   "metadata": {
    "ExecuteTime": {
     "end_time": "2018-05-06T04:55:18.403468Z",
     "start_time": "2018-05-06T04:55:17.309270Z"
    }
   },
   "outputs": [],
   "source": [
    "import astra\n",
    "import dicom2nifti\n",
    "import dicom2nifti.compressed_dicom as compressed_dicom\n",
    "import copy\n",
    "import importlib\n",
    "import itertools\n",
    "import niftiutils.helper_fxns as hf\n",
    "import niftiutils.transforms as tr\n",
    "import niftiutils.registration as regs\n",
    "import niftiutils.private as prv\n",
    "import niftiutils.visualization as vis\n",
    "from scipy.ndimage.interpolation import rotate\n",
    "import numpy as np\n",
    "import os\n",
    "import shutil\n",
    "import pandas as pd\n",
    "import pylab\n",
    "import random\n",
    "import shutil\n",
    "import config\n",
    "import time\n",
    "%matplotlib inline\n",
    "\n",
    "import glob\n",
    "from os.path import *"
   ]
  },
  {
   "cell_type": "code",
   "execution_count": 77,
   "metadata": {
    "ExecuteTime": {
     "end_time": "2018-05-06T04:55:18.509753Z",
     "start_time": "2018-05-06T04:55:18.506744Z"
    }
   },
   "outputs": [],
   "source": [
    "importlib.reload(config)\n",
    "C = config.Config()"
   ]
  },
  {
   "cell_type": "code",
   "execution_count": 13,
   "metadata": {
    "ExecuteTime": {
     "end_time": "2018-05-05T21:18:41.367148Z",
     "start_time": "2018-05-05T19:47:04.425127Z"
    },
    "collapsed": true
   },
   "outputs": [],
   "source": [
    "for fn in glob.glob(r\"Z:\\TACE\\Imaging\\*\\*CT*\"):\n",
    "    shutil.copytree(fn, join(train_dir, basename(fn)))"
   ]
  },
  {
   "cell_type": "code",
   "execution_count": 18,
   "metadata": {
    "ExecuteTime": {
     "end_time": "2018-05-05T21:38:14.866789Z",
     "start_time": "2018-05-05T21:38:14.747299Z"
    }
   },
   "outputs": [],
   "source": [
    "for fn in glob.glob(join(train_dir,\"*\")):\n",
    "    F = basename(fn)\n",
    "    os.rename(fn, join(dirname(fn), prv.decode(F.strip())))"
   ]
  },
  {
   "cell_type": "code",
   "execution_count": 8,
   "metadata": {
    "ExecuteTime": {
     "end_time": "2018-05-05T23:29:44.310202Z",
     "start_time": "2018-05-05T23:29:44.041929Z"
    },
    "collapsed": true
   },
   "outputs": [],
   "source": [
    "H = hf.load_dcm_header(r\"D:\\CBCT\\Train\\DICOMs\\11774179\\liver + abd with_2\")"
   ]
  },
  {
   "cell_type": "code",
   "execution_count": 24,
   "metadata": {
    "ExecuteTime": {
     "end_time": "2018-05-06T00:27:45.024203Z",
     "start_time": "2018-05-06T00:27:44.716109Z"
    }
   },
   "outputs": [],
   "source": [
    "importlib.reload(hf)\n",
    "hf.split_dcm(fn)"
   ]
  },
  {
   "cell_type": "code",
   "execution_count": null,
   "metadata": {
    "ExecuteTime": {
     "end_time": "2018-05-06T02:48:58.423565Z",
     "start_time": "2018-05-06T02:25:02.763189Z"
    },
    "collapsed": true
   },
   "outputs": [],
   "source": [
    "for fn in glob.glob(join(train_dir,\"DICOMs\",\"*\",\"*_2\")):\n",
    "    accnum = basename(dirname(fn))\n",
    "    if exists(join(train_dir,\"NIFTIs\",accnum+\"_2.nii.gz\")):\n",
    "        continue\n",
    "    try:\n",
    "        I,D = hf.dcm_load(fn, True, True)\n",
    "    except:\n",
    "        print(fn)\n",
    "        continue\n",
    "    hf.save_nii(I, join(train_dir,\"NIFTIs\",accnum+\"_2.nii.gz\"), D)"
   ]
  },
  {
   "cell_type": "code",
   "execution_count": 49,
   "metadata": {
    "ExecuteTime": {
     "end_time": "2018-05-06T02:20:12.777730Z",
     "start_time": "2018-05-06T02:20:04.791334Z"
    },
    "scrolled": true
   },
   "outputs": [],
   "source": [
    "for fn in glob.glob(join(train_dir,\"DICOMs\",\"*\",\"*_2\")):\n",
    "    try:\n",
    "        hf.split_dcm(fn);\n",
    "        if len(os.listdir(fn)) == 0:\n",
    "            shutil.rmtree(fn)\n",
    "        time.sleep(.1)\n",
    "        os.rename(fn+\"_bin0\", fn)\n",
    "        I,D = hf.dcm_load(fn, True, True)\n",
    "    except:\n",
    "        print(fn)\n",
    "        continue\n",
    "    accnum = basename(dirname(fn))\n",
    "    hf.save_nii(I, join(train_dir,\"NIFTIs\",accnum+\"_2.nii.gz\"), D)"
   ]
  },
  {
   "cell_type": "code",
   "execution_count": 48,
   "metadata": {
    "ExecuteTime": {
     "end_time": "2018-05-06T02:19:30.614396Z",
     "start_time": "2018-05-06T02:19:30.596348Z"
    },
    "collapsed": true
   },
   "outputs": [],
   "source": [
    "for fn in glob.glob(r\"D:\\CBCT\\Train\\DICOMs\\E102675778\\chest_abd  5.0  b31f st_3_*\\*\"):\n",
    "    shutil.move(fn, join(r\"D:\\CBCT\\Train\\DICOMs\\E102675778\\chest_abd  5.0  b31f st_3\", basename(fn)))"
   ]
  },
  {
   "cell_type": "code",
   "execution_count": 3,
   "metadata": {
    "ExecuteTime": {
     "end_time": "2018-05-06T02:24:23.176225Z",
     "start_time": "2018-05-06T02:24:23.167202Z"
    },
    "collapsed": true
   },
   "outputs": [],
   "source": [
    "for fn in glob.glob(r\"D:\\CBCT\\Train\\MRs\\*\"):\n",
    "    os.rename(fn, fn[:fn.rfind('_3')]+\"_2.nii.gz\")"
   ]
  },
  {
   "cell_type": "code",
   "execution_count": 33,
   "metadata": {
    "ExecuteTime": {
     "end_time": "2018-05-06T00:36:15.834539Z",
     "start_time": "2018-05-06T00:36:15.831530Z"
    },
    "collapsed": true
   },
   "outputs": [],
   "source": [
    "with open(\"list.txt\", 'r') as f:\n",
    "    F = [x.strip() for x in f.readlines()]"
   ]
  },
  {
   "cell_type": "code",
   "execution_count": 30,
   "metadata": {
    "ExecuteTime": {
     "end_time": "2018-05-06T00:35:06.011422Z",
     "start_time": "2018-05-06T00:35:05.978305Z"
    }
   },
   "outputs": [],
   "source": [
    "for fn in F[1:]:\n",
    "    if len(os.listdir(fn)) == 0:\n",
    "        shutil.rmtree(fn)\n",
    "        os.rename(fn+\"_bin0\", fn)"
   ]
  },
  {
   "cell_type": "code",
   "execution_count": null,
   "metadata": {
    "ExecuteTime": {
     "end_time": "2018-05-06T00:37:16.980126Z",
     "start_time": "2018-05-06T00:37:02.267297Z"
    },
    "collapsed": true
   },
   "outputs": [],
   "source": [
    "for fn in F:\n",
    "    try:\n",
    "        hf.dcm_fill_missing_slices(fn);\n",
    "        I,D = hf.dcm_load(fn, True, True)\n",
    "    except:\n",
    "        print(fn)\n",
    "        continue\n",
    "    accnum = basename(dirname(fn))\n",
    "    #P = cm.project(I,D)\n",
    "    #I = tr.rescale_img(I,D,)\n",
    "    hf.save_nii(I, join(train_dir,\"NIFTIs\",accnum+\"_2.nii.gz\"), D)"
   ]
  },
  {
   "cell_type": "code",
   "execution_count": 40,
   "metadata": {
    "ExecuteTime": {
     "end_time": "2018-05-06T01:02:59.971405Z",
     "start_time": "2018-05-06T01:02:59.955363Z"
    }
   },
   "outputs": [],
   "source": [
    "fn = glob.glob(join(train_dir,\"DICOMs\",\"*\",\"*_3\"))[0]"
   ]
  },
  {
   "cell_type": "code",
   "execution_count": null,
   "metadata": {
    "collapsed": true
   },
   "outputs": [],
   "source": []
  },
  {
   "cell_type": "markdown",
   "metadata": {
    "ExecuteTime": {
     "end_time": "2018-05-07T00:34:06.643212Z",
     "start_time": "2018-05-07T00:34:05.481626Z"
    }
   },
   "source": [
    "nii_path = random.choice(glob.glob(r\"D:\\CBCT\\Train\\NIFTIs\\*\"))\n",
    "I,D = hf.nii_load(nii_path)\n",
    "I = tr.apply_window(I, limits=(-140,500))\n",
    "I -= I.min()\n",
    "I = I/I.max()\n",
    "I = tr.rescale_img(I, [random.random()*1.5+1.5]*3, D)\n",
    "I = hf.crop_nonzero(I)[0]\n",
    "I = np.transpose(I, (2,1,0)) # Coordinate order: slice, row, column (z, y, x)\n",
    "cropI = tr.rescale_img(I, C.world_dims)\n",
    "\n",
    "proj_id, proj_data = astra.create_sino3d_gpu(cropI, proj_geom, vol_geom) # Coordinate order: row (v), angle, column (u)\n",
    "proj_data = np.transpose(proj_data, (0,2,1))\n"
   ]
  },
  {
   "cell_type": "code",
   "execution_count": 164,
   "metadata": {
    "ExecuteTime": {
     "end_time": "2018-05-07T03:44:20.521858Z",
     "start_time": "2018-05-07T03:44:20.509826Z"
    }
   },
   "outputs": [],
   "source": [
    "pixel_spacing = (1,1)\n",
    "dim = C.world_dims[0]\n",
    "rows=cols=sl=dim\n",
    "\n",
    "aug_factor = 20\n",
    "d_src = 800\n",
    "d_det = 0\n",
    "\n",
    "# Parameter order: rows, colums, slices (y, x, z)\n",
    "vol_geom = astra.create_vol_geom(rows, cols, sl)\n",
    "\n",
    "angles = np.linspace(-0.5*np.pi, 0.5*np.pi, 32, False)\n",
    "# Parameters: width of detector column, height of detector row, #rows, #columns,\n",
    "#             angles, distance source-origin, distance origin-detector\n",
    "proj_geom = astra.create_proj_geom('cone', *pixel_spacing, rows, cols, angles, d_src, d_det)"
   ]
  },
  {
   "cell_type": "code",
   "execution_count": 192,
   "metadata": {
    "ExecuteTime": {
     "end_time": "2018-05-07T13:30:37.199108Z",
     "start_time": "2018-05-07T13:30:37.102172Z"
    }
   },
   "outputs": [],
   "source": [
    "os.remove(nii_path)"
   ]
  },
  {
   "cell_type": "code",
   "execution_count": 191,
   "metadata": {
    "ExecuteTime": {
     "end_time": "2018-05-07T13:30:26.260526Z",
     "start_time": "2018-05-07T13:30:26.251502Z"
    }
   },
   "outputs": [
    {
     "data": {
      "text/plain": [
       "219"
      ]
     },
     "execution_count": 191,
     "metadata": {},
     "output_type": "execute_result"
    }
   ],
   "source": [
    "[basename(nii_path) for nii_path in glob.glob(r\"D:\\CBCT\\Train\\NIFTIs\\*\")].index(\"E101349588_3.nii.gz\")"
   ]
  },
  {
   "cell_type": "code",
   "execution_count": null,
   "metadata": {
    "ExecuteTime": {
     "start_time": "2018-05-07T13:30:37.982Z"
    },
    "scrolled": true
   },
   "outputs": [
    {
     "name": "stdout",
     "output_type": "stream",
     "text": [
      "E101379629_2\n"
     ]
    }
   ],
   "source": [
    "for nii_path in glob.glob(r\"D:\\CBCT\\Train\\NIFTIs\\*\")[219:]:\n",
    "    imgnum = basename(nii_path)\n",
    "    imgnum = imgnum[:imgnum.find('.')]\n",
    "    print(imgnum)\n",
    "\n",
    "    I,D = hf.nii_load(nii_path)\n",
    "    I = tr.apply_window(I, limits=(-140,500))\n",
    "    I -= I.min()\n",
    "    I = I/I.max()\n",
    "    I = tr.rescale_img(I, [random.random()*1.5+1.5]*3, D)\n",
    "    I = hf.crop_nonzero(I)[0]\n",
    "    I = np.transpose(I, (2,1,0)) # Coordinate order: slice, row, column (z, y, x)\n",
    "    \n",
    "    aug_save()"
   ]
  },
  {
   "cell_type": "code",
   "execution_count": 185,
   "metadata": {
    "ExecuteTime": {
     "end_time": "2018-05-07T13:00:06.027685Z",
     "start_time": "2018-05-07T13:00:05.948272Z"
    },
    "collapsed": true
   },
   "outputs": [],
   "source": [
    "def aug_save():\n",
    "    for augnum in range(aug_factor):\n",
    "        cropI = copy.deepcopy(I)\n",
    "        if random.random() > .5:\n",
    "            cropI = rotate(cropI, random.random()*360)\n",
    "        if random.random() > .5:\n",
    "            cropI = cropI[::-1]\n",
    "        if random.random() > .5:\n",
    "            cropI = cropI[:,::-1]\n",
    "        if random.random() > .5:\n",
    "            cropI = cropI[...,::-1]\n",
    "        cropI = rotate(cropI, random.random()*360, axes=(2,1))\n",
    "        cropI = hf.crop_nonzero(cropI)[0]\n",
    "\n",
    "        x,y,z = [int(random.random()*(cropI.shape[i]-dim)) for i in range(3)]\n",
    "        crop = [slice(x,x+dim), slice(y,y+dim), slice(z,z+dim)]\n",
    "        ix = 0\n",
    "        while np.percentile(cropI[crop], 50) < .1:\n",
    "            x,y,z = [int(random.random()*(cropI.shape[i]-dim)) for i in range(3)]\n",
    "            crop = [slice(x,x+dim), slice(y,y+dim), slice(z,z+dim)]\n",
    "            ix += 1\n",
    "            if ix > 10:\n",
    "                print(nii_path, \"not dense enough\")\n",
    "                return\n",
    "        cropI = cropI[crop]\n",
    "            \n",
    "        cropI += np.random.normal(scale=.01, size=cropI.shape)\n",
    "        cropI -= cropI.min()\n",
    "        cropI = cropI/cropI.max()\n",
    "        #cropI = tr.apply_window(cropI, limits=(0,1))\n",
    "\n",
    "        proj_id, proj_data = astra.create_sino3d_gpu(cropI, proj_geom, vol_geom) # Coordinate order: row (v), angle, column (u)\n",
    "        proj_data = np.transpose(proj_data, (0,2,1))\n",
    "        proj_data -= proj_data.min()\n",
    "        proj_data = proj_data/proj_data.max()\n",
    "\n",
    "        np.save(join(C.npy_dir, \"%s_%d_proj.npy\" % (imgnum, augnum)), proj_data)\n",
    "        np.save(join(C.npy_dir, \"%s_%d_img.npy\" % (imgnum, augnum)), cropI)\n",
    "\n",
    "        astra.data3d.delete(proj_id)"
   ]
  },
  {
   "cell_type": "code",
   "execution_count": 180,
   "metadata": {
    "ExecuteTime": {
     "end_time": "2018-05-07T04:41:15.831696Z",
     "start_time": "2018-05-07T04:41:12.794955Z"
    }
   },
   "outputs": [],
   "source": [
    "for fn in glob.glob(join(C.npy_dir, \"*_img.npy\")):\n",
    "    cropI = np.load(fn)\n",
    "    if np.isnan(cropI.min()):\n",
    "        print(fn)\n",
    "    #np.save(fn, cropI)"
   ]
  },
  {
   "cell_type": "code",
   "execution_count": null,
   "metadata": {
    "collapsed": true
   },
   "outputs": [],
   "source": [
    "    #import pylab\n",
    "    #pylab.gray()\n",
    "    #pylab.figure(1)\n",
    "    #pylab.imshow(proj_data[1,:,:])\n",
    "\n",
    "    #vis.draw_slices(np.transpose(cropI, (2,1,0)))"
   ]
  },
  {
   "cell_type": "code",
   "execution_count": null,
   "metadata": {
    "collapsed": true
   },
   "outputs": [],
   "source": []
  }
 ],
 "metadata": {
  "kernelspec": {
   "display_name": "Python 3",
   "language": "python",
   "name": "python3"
  },
  "varInspector": {
   "cols": {
    "lenName": 16,
    "lenType": 16,
    "lenVar": 40
   },
   "kernels_config": {
    "python": {
     "delete_cmd_postfix": "",
     "delete_cmd_prefix": "del ",
     "library": "var_list.py",
     "varRefreshCmd": "print(var_dic_list())"
    },
    "r": {
     "delete_cmd_postfix": ") ",
     "delete_cmd_prefix": "rm(",
     "library": "var_list.r",
     "varRefreshCmd": "cat(var_dic_list()) "
    }
   },
   "types_to_exclude": [
    "module",
    "function",
    "builtin_function_or_method",
    "instance",
    "_Feature"
   ],
   "window_display": false
  }
 },
 "nbformat": 4,
 "nbformat_minor": 2
}
