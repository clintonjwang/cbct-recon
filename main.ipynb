{
 "cells": [
  {
   "cell_type": "code",
   "execution_count": 2,
   "metadata": {
    "collapsed": true
   },
   "outputs": [],
   "source": [
    "import niftiutils.helper_fxns as hf\n",
    "import os\n",
    "import shutil\n",
    "import pandas as pd\n",
    "\n",
    "import dicom2nifti\n",
    "import dicom2nifti.compressed_dicom as compressed_dicom"
   ]
  },
  {
   "cell_type": "code",
   "execution_count": 11,
   "metadata": {
    "collapsed": true
   },
   "outputs": [],
   "source": [
    "img_dir = r\"D:\\CBCT\\Aaron\"\n",
    "dcm_path = img_dir+\"\\\\15814.dcm\""
   ]
  },
  {
   "cell_type": "code",
   "execution_count": 16,
   "metadata": {},
   "outputs": [],
   "source": [
    "dicom_input = compressed_dicom.read_file(dcm_path,\n",
    "                                           defer_size=100,\n",
    "                                           stop_before_pixels=False,\n",
    "                                           force=False)"
   ]
  },
  {
   "cell_type": "code",
   "execution_count": null,
   "metadata": {
    "collapsed": true
   },
   "outputs": [],
   "source": []
  }
 ],
 "metadata": {
  "kernelspec": {
   "display_name": "Python 3",
   "language": "python",
   "name": "python3"
  },
  "language_info": {
   "codemirror_mode": {
    "name": "ipython",
    "version": 3
   },
   "file_extension": ".py",
   "mimetype": "text/x-python",
   "name": "python",
   "nbconvert_exporter": "python",
   "pygments_lexer": "ipython3",
   "version": "3.5.0"
  }
 },
 "nbformat": 4,
 "nbformat_minor": 2
}
