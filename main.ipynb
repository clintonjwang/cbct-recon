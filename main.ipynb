{
 "cells": [
  {
   "cell_type": "code",
   "execution_count": 1,
   "metadata": {
    "collapsed": true
   },
   "outputs": [],
   "source": [
    "import astra\n",
    "import niftiutils.helper_fxns as hf\n",
    "import os\n",
    "import shutil\n",
    "import pandas as pd\n",
    "import numpy as np\n",
    "import pylab\n",
    "import importlib\n",
    "import shutil\n",
    "\n",
    "import dicom2nifti\n",
    "import dicom2nifti.compressed_dicom as compressed_dicom\n",
    "%matplotlib inline"
   ]
  },
  {
   "cell_type": "code",
   "execution_count": 2,
   "metadata": {
    "collapsed": true
   },
   "outputs": [],
   "source": [
    "img_dir = r\"D:\\CBCT\\AARON\"\n",
    "dcm_path = img_dir+\"\\\\15814.dcm\""
   ]
  },
  {
   "cell_type": "code",
   "execution_count": 3,
   "metadata": {
    "collapsed": true
   },
   "outputs": [],
   "source": [
    "dicom_input = compressed_dicom.read_file(dcm_path,\n",
    "                                       defer_size=100,\n",
    "                                       stop_before_pixels=False,\n",
    "                                       force=False)"
   ]
  },
  {
   "cell_type": "code",
   "execution_count": 4,
   "metadata": {
    "collapsed": true
   },
   "outputs": [],
   "source": [
    "cine_rate = float(dicom_input[('0018', '0040')].value)\n",
    "kvp = float(dicom_input[('0018', '0060')].value)\n",
    "d_detector = int(dicom_input[('0018', '1110')].value)\n",
    "d_patient = int(dicom_input[('0018', '1111')].value)\n",
    "t_exposure = int(dicom_input[('0018', '1150')].value)\n",
    "current = int(dicom_input[('0018', '1151')].value)\n",
    "exposure = int(dicom_input[('0018', '1152')].value)\n",
    "pixel_spacing = dicom_input[('0018', '1164')].value\n",
    "angle1 = float(dicom_input[('0018', '1510')].value)\n",
    "angle2 = float(dicom_input[('0018', '1511')].value)\n",
    "angle1_increment = dicom_input[('0018', '1520')].value\n",
    "angle2_increment = dicom_input[('0018', '1521')].value\n",
    "shutter_edges = [int(dicom_input[('0018', str(x))].value) for x in [1602, 1604, 1606, 1608]]"
   ]
  },
  {
   "cell_type": "code",
   "execution_count": 5,
   "metadata": {
    "collapsed": true
   },
   "outputs": [],
   "source": [
    "imgs = dicom_input[('7fe0', '0010')].value\n",
    "rows = dicom_input[('0028', '0010')].value\n",
    "cols = dicom_input[('0028', '0011')].value\n",
    "ch = dicom_input[('0028', '0002')].value\n",
    "frames = int(dicom_input[('0028', '0008')].value)"
   ]
  },
  {
   "cell_type": "code",
   "execution_count": 6,
   "metadata": {
    "collapsed": true
   },
   "outputs": [],
   "source": [
    "ls = list(dicom_input[('7fe0', '0010')].value)\n",
    "img = [ls[x]+ls[x+1]*256 for x in range(0,len(ls),2)]\n",
    "img = np.reshape(img,(frames,rows,cols))\n",
    "canon_img = np.transpose(img, (2,1,0))[:,::-1,:]"
   ]
  },
  {
   "cell_type": "code",
   "execution_count": null,
   "metadata": {
    "collapsed": true
   },
   "outputs": [],
   "source": [
    "hf.draw_slices(canon_img,width=10)"
   ]
  },
  {
   "cell_type": "code",
   "execution_count": 487,
   "metadata": {},
   "outputs": [
    {
     "data": {
      "text/plain": [
       "(297, 384, 384)"
      ]
     },
     "execution_count": 487,
     "metadata": {},
     "output_type": "execute_result"
    }
   ],
   "source": [
    "recon_img = np.transpose(img, (1,0,2))[::-1,:,:]\n",
    "recon_img.shape"
   ]
  },
  {
   "cell_type": "code",
   "execution_count": 9,
   "metadata": {},
   "outputs": [
    {
     "data": {
      "text/plain": [
       "dtype('int32')"
      ]
     },
     "execution_count": 9,
     "metadata": {},
     "output_type": "execute_result"
    }
   ],
   "source": [
    "canon_img.dtype"
   ]
  },
  {
   "cell_type": "code",
   "execution_count": 102,
   "metadata": {
    "collapsed": true,
    "scrolled": true
   },
   "outputs": [],
   "source": [
    "img = [a[x]+a[x+1]*256+a[x+2]*256**2+a[x+3]*256**3 for x in range(0,len(a),4)]\n",
    "img = np.reshape(img,(rows,cols))"
   ]
  },
  {
   "cell_type": "code",
   "execution_count": 10,
   "metadata": {
    "collapsed": true
   },
   "outputs": [],
   "source": [
    "canon_img = np.transpose(canon_img, (1,2,0))"
   ]
  },
  {
   "cell_type": "code",
   "execution_count": 373,
   "metadata": {
    "collapsed": true
   },
   "outputs": [],
   "source": [
    "canon_img_unscaled = copy.deepcopy(canon_img)"
   ]
  },
  {
   "cell_type": "code",
   "execution_count": 374,
   "metadata": {
    "collapsed": true
   },
   "outputs": [],
   "source": [
    "canon_img = (canon_img - np.amin(canon_img)) / (np.amax(canon_img) - np.amin(canon_img))"
   ]
  },
  {
   "cell_type": "code",
   "execution_count": null,
   "metadata": {
    "collapsed": true
   },
   "outputs": [],
   "source": [
    "proj_data = canon_img\n",
    "frames = proj_data.shape[1]\n",
    "off = 0\n",
    "vol_geom = astra.create_vol_geom((192, 192, 149)) #rows, colums, slices (y, x, z) 384, 384, 297\n",
    "\n",
    "angles = np.array([(angle1 + theta)/180*np.pi for theta in angle1_increment[off:off+frames]])\n",
    "#angles2 = [angle2 + theta for theta in angle2_increment[:frames]]\n",
    "#angles = np.stack([angles1, angles2])\n",
    "proj_geom = astra.create_proj_geom('cone', float(pixel_spacing[0]), float(pixel_spacing[1]),\n",
    "                                   rows, cols, angles, d_patient/1, (d_detector-d_patient)/1)\n",
    "\n",
    "# Display a single projection image\n",
    "pylab.gray()\n",
    "pylab.figure(1)\n",
    "pylab.imshow(proj_data[:,off,:])\n",
    "\n",
    "# Create a data object for the reconstruction\n",
    "rec_id = astra.data3d.create('-vol', vol_geom)\n",
    "proj_id = astra.data3d.create('-proj3d', proj_geom, proj_data[:,off:off+frames,:]) #Coordinate order: row (v), angle, column (u)\n",
    "\n",
    "# Set up the parameters for a reconstruction algorithm using the GPU\n",
    "cfg = astra.astra_dict('FDK_CUDA')\n",
    "cfg['ReconstructionDataId'] = rec_id\n",
    "cfg['ProjectionDataId'] = proj_id\n",
    "\n",
    "# Create the algorithm object from the configuration structure\n",
    "alg_id = astra.algorithm.create(cfg)\n",
    "\n",
    "# Run 150 iterations of the algorithm\n",
    "# Note that this requires about 750MB of GPU memory, and has a runtime\n",
    "# in the order of 10 seconds.\n",
    "astra.algorithm.run(alg_id, 3)\n",
    "\n",
    "# Get the result\n",
    "rec = astra.data3d.get(rec_id) * -1\n",
    "pylab.figure(2)\n",
    "pylab.imshow(rec[50,10:120,20:170])#, vmin=.0010, vmax=0.0035)\n",
    "pylab.show()\n",
    "\n",
    "# Clean up. Note that GPU memory is tied up in the algorithm object,\n",
    "# and main RAM in the data objects.\n",
    "astra.algorithm.delete(alg_id)\n",
    "astra.data3d.delete(rec_id)\n",
    "astra.data3d.delete(proj_id)"
   ]
  },
  {
   "cell_type": "code",
   "execution_count": 610,
   "metadata": {},
   "outputs": [
    {
     "data": {
      "text/plain": [
       "-0.01225862"
      ]
     },
     "execution_count": 610,
     "metadata": {},
     "output_type": "execute_result"
    }
   ],
   "source": [
    "np.amin(rec[:,:,::-1][50,20:170,10:120])"
   ]
  },
  {
   "cell_type": "code",
   "execution_count": 609,
   "metadata": {},
   "outputs": [
    {
     "data": {
      "text/plain": [
       "0.0033239664"
      ]
     },
     "execution_count": 609,
     "metadata": {},
     "output_type": "execute_result"
    }
   ],
   "source": [
    "np.amax(rec[:,:,::-1][50,20:170,10:120])"
   ]
  },
  {
   "cell_type": "code",
   "execution_count": null,
   "metadata": {
    "collapsed": true
   },
   "outputs": [],
   "source": []
  },
  {
   "cell_type": "code",
   "execution_count": null,
   "metadata": {
    "collapsed": true
   },
   "outputs": [],
   "source": [
    "pylab.imshow(np.transpose(rec[:,:,::-1][50,20:170,10:120], (1,0)), vmin=0.0005)"
   ]
  },
  {
   "cell_type": "code",
   "execution_count": null,
   "metadata": {
    "collapsed": true
   },
   "outputs": [],
   "source": [
    "pylab.imshow(rec[50,:,:], vmin=0, vmax=200)"
   ]
  },
  {
   "cell_type": "code",
   "execution_count": null,
   "metadata": {
    "collapsed": true
   },
   "outputs": [],
   "source": [
    "pylab.imshow(rec[100,10:120,20:170])#, vmin=0, vmax=200)"
   ]
  },
  {
   "cell_type": "code",
   "execution_count": null,
   "metadata": {
    "collapsed": true
   },
   "outputs": [],
   "source": [
    "pylab.imshow(rec[100,10:120,20:150], vmin=.0010, vmax=0.0035)"
   ]
  },
  {
   "cell_type": "code",
   "execution_count": null,
   "metadata": {
    "collapsed": true
   },
   "outputs": [],
   "source": [
    "pylab.imshow(recon_img[180,320:150:-1,50:290], vmax=30000)"
   ]
  },
  {
   "cell_type": "code",
   "execution_count": 601,
   "metadata": {},
   "outputs": [
    {
     "data": {
      "text/plain": [
       "-104.58"
      ]
     },
     "execution_count": 601,
     "metadata": {},
     "output_type": "execute_result"
    }
   ],
   "source": [
    "angle1"
   ]
  },
  {
   "cell_type": "code",
   "execution_count": 564,
   "metadata": {
    "collapsed": true
   },
   "outputs": [],
   "source": [
    "from math import sin, cos\n",
    "\n",
    "vectors = np.zeros((len(proj_geom['ProjectionAngles']), 12))\n",
    "for i in range(len(proj_geom['ProjectionAngles'])):\n",
    "    # source\n",
    "    vectors[i,0] = sin(proj_geom['ProjectionAngles'][i]) * proj_geom['DistanceOriginSource']\n",
    "    vectors[i,1] = -cos(proj_geom['ProjectionAngles'][i]) * proj_geom['DistanceOriginSource']\n",
    "    vectors[i,2] = 0\n",
    "\n",
    "    # center of detector\n",
    "    vectors[i,3] = -sin(proj_geom['ProjectionAngles'][i]) * proj_geom['DistanceOriginDetector']\n",
    "    vectors[i,4] = cos(proj_geom['ProjectionAngles'][i]) * proj_geom['DistanceOriginDetector']\n",
    "    vectors[i,5] = 0\n",
    "\n",
    "    # vector from detector pixel (0,0) to (0,1)\n",
    "    vectors[i,6] = cos(proj_geom['ProjectionAngles'][i]) * proj_geom['DetectorSpacingX']\n",
    "    vectors[i,7] = sin(proj_geom['ProjectionAngles'][i]) * proj_geom['DetectorSpacingX']\n",
    "    vectors[i,8] = 0\n",
    "\n",
    "    # vector from detector pixel (0,0) to (1,0)\n",
    "    vectors[i,9] = 0\n",
    "    vectors[i,10] = 0\n",
    "    vectors[i,11] = proj_geom['DetectorSpacingY']"
   ]
  },
  {
   "cell_type": "code",
   "execution_count": null,
   "metadata": {
    "collapsed": true
   },
   "outputs": [],
   "source": []
  }
 ],
 "metadata": {
  "kernelspec": {
   "display_name": "Python 3",
   "language": "python",
   "name": "python3"
  },
  "language_info": {
   "codemirror_mode": {
    "name": "ipython",
    "version": 3
   },
   "file_extension": ".py",
   "mimetype": "text/x-python",
   "name": "python",
   "nbconvert_exporter": "python",
   "pygments_lexer": "ipython3",
   "version": "3.5.0"
  }
 },
 "nbformat": 4,
 "nbformat_minor": 2
}
